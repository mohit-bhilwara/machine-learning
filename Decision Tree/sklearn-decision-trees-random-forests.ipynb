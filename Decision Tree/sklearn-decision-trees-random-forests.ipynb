{
 "cells": [
  {
   "cell_type": "markdown",
   "id": "expensive-trainer",
   "metadata": {
    "id": "expensive-trainer"
   },
   "source": [
    "# Decision Trees and Random Forests\n",
    "\n",
    "![](https://i.imgur.com/N8aIuRK.jpg)"
   ]
  },
  {
   "cell_type": "markdown",
   "id": "indonesian-montreal",
   "metadata": {
    "id": "indonesian-montreal"
   },
   "source": [
    "The following topics are covered in this tutorial:\n",
    "\n",
    "- Downloading a real-world dataset\n",
    "- Preparing a dataset for training\n",
    "- Training and interpreting decision trees\n",
    "- Training and interpreting random forests\n",
    "- Overfitting, hyperparameter tuning & regularization\n",
    "- Making predictions on single inputs\n",
    "\n"
   ]
  },
  {
   "cell_type": "markdown",
   "id": "cheap-emission",
   "metadata": {
    "id": "cheap-emission"
   },
   "source": [
    "### How to run the code\n",
    "\n",
    "This tutorial is an executable [Jupyter notebook](https://jupyter.org) hosted on [Jovian](https://www.jovian.ai). You can _run_ this tutorial and experiment with the code examples in a couple of ways: *using free online resources* (recommended) or *on your computer*.\n",
    "\n",
    "#### Option 1: Running using free online resources (1-click, recommended)\n",
    "\n",
    "The easiest way to start executing the code is to click the **Run** button at the top of this page and select **Run on Colab**. You will be prompted to connect your Google Drive account so that this notebook can be placed into your drive for execution.\n",
    "\n",
    "\n",
    "#### Option 2: Running on your computer locally\n",
    "\n",
    "To run the code on your computer locally, you'll need to set up [Python](https://www.python.org), download the notebook and install the required libraries. We recommend using the [Conda](https://docs.conda.io/projects/conda/en/latest/user-guide/install/) distribution of Python. Click the **Run** button at the top of this page, select the **Run Locally** option, and follow the instructions.\n",
    "\n"
   ]
  },
  {
   "cell_type": "markdown",
   "id": "charged-english",
   "metadata": {
    "id": "charged-english"
   },
   "source": [
    "## Problem Statement\n",
    "\n",
    "This tutorial takes a practical and coding-focused approach. We'll learn how to use _decision trees_ and _random forests_ to solve a real-world problem from [Kaggle](https://kaggle.com/datasets):\n",
    "\n",
    "> **QUESTION**: The [Rain in Australia dataset](https://kaggle.com/jsphyg/weather-dataset-rattle-package) contains about 10 years of daily weather observations from numerous Australian weather stations. Here's a small sample from the dataset:\n",
    "> \n",
    "> ![](https://i.imgur.com/5QNJvir.png)\n",
    ">\n",
    "> As a data scientist at the Bureau of Meteorology, you are tasked with creating a fully-automated system that can use today's weather data for a given location to predict whether it will rain at the location tomorrow. \n",
    ">\n",
    ">\n",
    "> ![](https://i.imgur.com/KWfcpcO.png)\n"
   ]
  },
  {
   "cell_type": "markdown",
   "id": "statutory-mayor",
   "metadata": {
    "id": "statutory-mayor"
   },
   "source": [
    "Let's install and import some required libraries before we begin."
   ]
  },
  {
   "cell_type": "code",
   "execution_count": 1,
   "id": "smaller-moore",
   "metadata": {
    "executionInfo": {
     "elapsed": 8686,
     "status": "ok",
     "timestamp": 1663001503874,
     "user": {
      "displayName": "Aakash N S",
      "userId": "03254185060287524023"
     },
     "user_tz": -330
    },
    "id": "smaller-moore"
   },
   "outputs": [],
   "source": [
    "#restart the kernel after installation\n",
    "# !pip install pandas-profiling numpy matplotlib seaborn --quiet"
   ]
  },
  {
   "cell_type": "code",
   "execution_count": 2,
   "id": "wraQ_3GLEOwt",
   "metadata": {
    "executionInfo": {
     "elapsed": 5971,
     "status": "ok",
     "timestamp": 1663001509841,
     "user": {
      "displayName": "Aakash N S",
      "userId": "03254185060287524023"
     },
     "user_tz": -330
    },
    "id": "wraQ_3GLEOwt"
   },
   "outputs": [],
   "source": [
    "# !pip install opendatasets scikit-learn jovian --quiet --upgrade"
   ]
  },
  {
   "cell_type": "code",
   "execution_count": 3,
   "id": "plain-explorer",
   "metadata": {
    "executionInfo": {
     "elapsed": 933,
     "status": "ok",
     "timestamp": 1663001513483,
     "user": {
      "displayName": "Aakash N S",
      "userId": "03254185060287524023"
     },
     "user_tz": -330
    },
    "id": "plain-explorer"
   },
   "outputs": [],
   "source": [
    "import opendatasets as od\n",
    "import matplotlib.pyplot as plt\n",
    "import seaborn as sns\n",
    "import pandas as pd\n",
    "import numpy as np\n",
    "import matplotlib\n",
    "import jovian\n",
    "import os\n",
    "%matplotlib inline\n",
    "\n",
    "pd.set_option('display.max_columns', None)\n",
    "pd.set_option('display.max_rows', 150)\n",
    "sns.set_style('whitegrid')\n",
    "matplotlib.rcParams['font.size'] = 14\n",
    "matplotlib.rcParams['figure.figsize'] = (10, 6)\n",
    "matplotlib.rcParams['figure.facecolor'] = '#00000000'"
   ]
  },
  {
   "cell_type": "markdown",
   "id": "fitting-grace",
   "metadata": {
    "id": "fitting-grace"
   },
   "source": [
    "## Downloading the Data\n",
    "\n",
    "The dataset is available at https://www.kaggle.com/jsphyg/weather-dataset-rattle-package .\n",
    "\n",
    "\n",
    "We'll use the [`opendatasets` library](https://github.com/JovianML/opendatasets) to download the data from Kaggle directly within Jupyter. "
   ]
  },
  {
   "cell_type": "code",
   "execution_count": 4,
   "id": "brave-prerequisite",
   "metadata": {
    "colab": {
     "base_uri": "https://localhost:8080/"
    },
    "executionInfo": {
     "elapsed": 925,
     "status": "ok",
     "timestamp": 1663001590455,
     "user": {
      "displayName": "Aakash N S",
      "userId": "03254185060287524023"
     },
     "user_tz": -330
    },
    "id": "brave-prerequisite",
    "outputId": "f904a4d4-be55-45af-ef3e-71fea7a7c4c3"
   },
   "outputs": [],
   "source": [
    "# od.download('https://www.kaggle.com/jsphyg/weather-dataset-rattle-package')"
   ]
  },
  {
   "cell_type": "markdown",
   "id": "funded-compression",
   "metadata": {
    "id": "funded-compression"
   },
   "source": [
    "The dataset is downloaded and extracted to the folder `weather-dataset-rattle-package`."
   ]
  },
  {
   "cell_type": "code",
   "execution_count": 5,
   "id": "realistic-search",
   "metadata": {
    "colab": {
     "base_uri": "https://localhost:8080/"
    },
    "executionInfo": {
     "elapsed": 393,
     "status": "ok",
     "timestamp": 1663001595632,
     "user": {
      "displayName": "Aakash N S",
      "userId": "03254185060287524023"
     },
     "user_tz": -330
    },
    "id": "realistic-search",
    "outputId": "0d3c4390-576c-43b8-b7ff-347aa0239143"
   },
   "outputs": [],
   "source": [
    "# os.listdir('weather-dataset-rattle-package')"
   ]
  },
  {
   "cell_type": "markdown",
   "id": "divided-papua",
   "metadata": {
    "id": "divided-papua"
   },
   "source": [
    "The file `weatherAUS.csv` contains the data. Let's load it into a Pandas dataframe."
   ]
  },
  {
   "cell_type": "code",
   "execution_count": 6,
   "id": "established-smart",
   "metadata": {
    "executionInfo": {
     "elapsed": 471,
     "status": "ok",
     "timestamp": 1663001597886,
     "user": {
      "displayName": "Aakash N S",
      "userId": "03254185060287524023"
     },
     "user_tz": -330
    },
    "id": "established-smart"
   },
   "outputs": [],
   "source": [
    "raw_df = pd.read_csv('weather-dataset-rattle-package/weatherAUS.csv')"
   ]
  },
  {
   "cell_type": "code",
   "execution_count": 7,
   "id": "requested-occurrence",
   "metadata": {
    "colab": {
     "base_uri": "https://localhost:8080/",
     "height": 661
    },
    "executionInfo": {
     "elapsed": 4,
     "status": "ok",
     "timestamp": 1663001598808,
     "user": {
      "displayName": "Aakash N S",
      "userId": "03254185060287524023"
     },
     "user_tz": -330
    },
    "id": "requested-occurrence",
    "outputId": "79c9aa5a-b240-46bb-ce2b-69ba67d3c676"
   },
   "outputs": [
    {
     "data": {
      "text/html": [
       "<div>\n",
       "<style scoped>\n",
       "    .dataframe tbody tr th:only-of-type {\n",
       "        vertical-align: middle;\n",
       "    }\n",
       "\n",
       "    .dataframe tbody tr th {\n",
       "        vertical-align: top;\n",
       "    }\n",
       "\n",
       "    .dataframe thead th {\n",
       "        text-align: right;\n",
       "    }\n",
       "</style>\n",
       "<table border=\"1\" class=\"dataframe\">\n",
       "  <thead>\n",
       "    <tr style=\"text-align: right;\">\n",
       "      <th></th>\n",
       "      <th>Date</th>\n",
       "      <th>Location</th>\n",
       "      <th>MinTemp</th>\n",
       "      <th>MaxTemp</th>\n",
       "      <th>Rainfall</th>\n",
       "      <th>Evaporation</th>\n",
       "      <th>Sunshine</th>\n",
       "      <th>WindGustDir</th>\n",
       "      <th>WindGustSpeed</th>\n",
       "      <th>WindDir9am</th>\n",
       "      <th>WindDir3pm</th>\n",
       "      <th>WindSpeed9am</th>\n",
       "      <th>WindSpeed3pm</th>\n",
       "      <th>Humidity9am</th>\n",
       "      <th>Humidity3pm</th>\n",
       "      <th>Pressure9am</th>\n",
       "      <th>Pressure3pm</th>\n",
       "      <th>Cloud9am</th>\n",
       "      <th>Cloud3pm</th>\n",
       "      <th>Temp9am</th>\n",
       "      <th>Temp3pm</th>\n",
       "      <th>RainToday</th>\n",
       "      <th>RainTomorrow</th>\n",
       "    </tr>\n",
       "  </thead>\n",
       "  <tbody>\n",
       "    <tr>\n",
       "      <th>0</th>\n",
       "      <td>2008-12-01</td>\n",
       "      <td>Albury</td>\n",
       "      <td>13.4</td>\n",
       "      <td>22.9</td>\n",
       "      <td>0.6</td>\n",
       "      <td>NaN</td>\n",
       "      <td>NaN</td>\n",
       "      <td>W</td>\n",
       "      <td>44.0</td>\n",
       "      <td>W</td>\n",
       "      <td>WNW</td>\n",
       "      <td>20.0</td>\n",
       "      <td>24.0</td>\n",
       "      <td>71.0</td>\n",
       "      <td>22.0</td>\n",
       "      <td>1007.7</td>\n",
       "      <td>1007.1</td>\n",
       "      <td>8.0</td>\n",
       "      <td>NaN</td>\n",
       "      <td>16.9</td>\n",
       "      <td>21.8</td>\n",
       "      <td>No</td>\n",
       "      <td>No</td>\n",
       "    </tr>\n",
       "    <tr>\n",
       "      <th>1</th>\n",
       "      <td>2008-12-02</td>\n",
       "      <td>Albury</td>\n",
       "      <td>7.4</td>\n",
       "      <td>25.1</td>\n",
       "      <td>0.0</td>\n",
       "      <td>NaN</td>\n",
       "      <td>NaN</td>\n",
       "      <td>WNW</td>\n",
       "      <td>44.0</td>\n",
       "      <td>NNW</td>\n",
       "      <td>WSW</td>\n",
       "      <td>4.0</td>\n",
       "      <td>22.0</td>\n",
       "      <td>44.0</td>\n",
       "      <td>25.0</td>\n",
       "      <td>1010.6</td>\n",
       "      <td>1007.8</td>\n",
       "      <td>NaN</td>\n",
       "      <td>NaN</td>\n",
       "      <td>17.2</td>\n",
       "      <td>24.3</td>\n",
       "      <td>No</td>\n",
       "      <td>No</td>\n",
       "    </tr>\n",
       "    <tr>\n",
       "      <th>2</th>\n",
       "      <td>2008-12-03</td>\n",
       "      <td>Albury</td>\n",
       "      <td>12.9</td>\n",
       "      <td>25.7</td>\n",
       "      <td>0.0</td>\n",
       "      <td>NaN</td>\n",
       "      <td>NaN</td>\n",
       "      <td>WSW</td>\n",
       "      <td>46.0</td>\n",
       "      <td>W</td>\n",
       "      <td>WSW</td>\n",
       "      <td>19.0</td>\n",
       "      <td>26.0</td>\n",
       "      <td>38.0</td>\n",
       "      <td>30.0</td>\n",
       "      <td>1007.6</td>\n",
       "      <td>1008.7</td>\n",
       "      <td>NaN</td>\n",
       "      <td>2.0</td>\n",
       "      <td>21.0</td>\n",
       "      <td>23.2</td>\n",
       "      <td>No</td>\n",
       "      <td>No</td>\n",
       "    </tr>\n",
       "    <tr>\n",
       "      <th>3</th>\n",
       "      <td>2008-12-04</td>\n",
       "      <td>Albury</td>\n",
       "      <td>9.2</td>\n",
       "      <td>28.0</td>\n",
       "      <td>0.0</td>\n",
       "      <td>NaN</td>\n",
       "      <td>NaN</td>\n",
       "      <td>NE</td>\n",
       "      <td>24.0</td>\n",
       "      <td>SE</td>\n",
       "      <td>E</td>\n",
       "      <td>11.0</td>\n",
       "      <td>9.0</td>\n",
       "      <td>45.0</td>\n",
       "      <td>16.0</td>\n",
       "      <td>1017.6</td>\n",
       "      <td>1012.8</td>\n",
       "      <td>NaN</td>\n",
       "      <td>NaN</td>\n",
       "      <td>18.1</td>\n",
       "      <td>26.5</td>\n",
       "      <td>No</td>\n",
       "      <td>No</td>\n",
       "    </tr>\n",
       "    <tr>\n",
       "      <th>4</th>\n",
       "      <td>2008-12-05</td>\n",
       "      <td>Albury</td>\n",
       "      <td>17.5</td>\n",
       "      <td>32.3</td>\n",
       "      <td>1.0</td>\n",
       "      <td>NaN</td>\n",
       "      <td>NaN</td>\n",
       "      <td>W</td>\n",
       "      <td>41.0</td>\n",
       "      <td>ENE</td>\n",
       "      <td>NW</td>\n",
       "      <td>7.0</td>\n",
       "      <td>20.0</td>\n",
       "      <td>82.0</td>\n",
       "      <td>33.0</td>\n",
       "      <td>1010.8</td>\n",
       "      <td>1006.0</td>\n",
       "      <td>7.0</td>\n",
       "      <td>8.0</td>\n",
       "      <td>17.8</td>\n",
       "      <td>29.7</td>\n",
       "      <td>No</td>\n",
       "      <td>No</td>\n",
       "    </tr>\n",
       "    <tr>\n",
       "      <th>...</th>\n",
       "      <td>...</td>\n",
       "      <td>...</td>\n",
       "      <td>...</td>\n",
       "      <td>...</td>\n",
       "      <td>...</td>\n",
       "      <td>...</td>\n",
       "      <td>...</td>\n",
       "      <td>...</td>\n",
       "      <td>...</td>\n",
       "      <td>...</td>\n",
       "      <td>...</td>\n",
       "      <td>...</td>\n",
       "      <td>...</td>\n",
       "      <td>...</td>\n",
       "      <td>...</td>\n",
       "      <td>...</td>\n",
       "      <td>...</td>\n",
       "      <td>...</td>\n",
       "      <td>...</td>\n",
       "      <td>...</td>\n",
       "      <td>...</td>\n",
       "      <td>...</td>\n",
       "      <td>...</td>\n",
       "    </tr>\n",
       "    <tr>\n",
       "      <th>145455</th>\n",
       "      <td>2017-06-21</td>\n",
       "      <td>Uluru</td>\n",
       "      <td>2.8</td>\n",
       "      <td>23.4</td>\n",
       "      <td>0.0</td>\n",
       "      <td>NaN</td>\n",
       "      <td>NaN</td>\n",
       "      <td>E</td>\n",
       "      <td>31.0</td>\n",
       "      <td>SE</td>\n",
       "      <td>ENE</td>\n",
       "      <td>13.0</td>\n",
       "      <td>11.0</td>\n",
       "      <td>51.0</td>\n",
       "      <td>24.0</td>\n",
       "      <td>1024.6</td>\n",
       "      <td>1020.3</td>\n",
       "      <td>NaN</td>\n",
       "      <td>NaN</td>\n",
       "      <td>10.1</td>\n",
       "      <td>22.4</td>\n",
       "      <td>No</td>\n",
       "      <td>No</td>\n",
       "    </tr>\n",
       "    <tr>\n",
       "      <th>145456</th>\n",
       "      <td>2017-06-22</td>\n",
       "      <td>Uluru</td>\n",
       "      <td>3.6</td>\n",
       "      <td>25.3</td>\n",
       "      <td>0.0</td>\n",
       "      <td>NaN</td>\n",
       "      <td>NaN</td>\n",
       "      <td>NNW</td>\n",
       "      <td>22.0</td>\n",
       "      <td>SE</td>\n",
       "      <td>N</td>\n",
       "      <td>13.0</td>\n",
       "      <td>9.0</td>\n",
       "      <td>56.0</td>\n",
       "      <td>21.0</td>\n",
       "      <td>1023.5</td>\n",
       "      <td>1019.1</td>\n",
       "      <td>NaN</td>\n",
       "      <td>NaN</td>\n",
       "      <td>10.9</td>\n",
       "      <td>24.5</td>\n",
       "      <td>No</td>\n",
       "      <td>No</td>\n",
       "    </tr>\n",
       "    <tr>\n",
       "      <th>145457</th>\n",
       "      <td>2017-06-23</td>\n",
       "      <td>Uluru</td>\n",
       "      <td>5.4</td>\n",
       "      <td>26.9</td>\n",
       "      <td>0.0</td>\n",
       "      <td>NaN</td>\n",
       "      <td>NaN</td>\n",
       "      <td>N</td>\n",
       "      <td>37.0</td>\n",
       "      <td>SE</td>\n",
       "      <td>WNW</td>\n",
       "      <td>9.0</td>\n",
       "      <td>9.0</td>\n",
       "      <td>53.0</td>\n",
       "      <td>24.0</td>\n",
       "      <td>1021.0</td>\n",
       "      <td>1016.8</td>\n",
       "      <td>NaN</td>\n",
       "      <td>NaN</td>\n",
       "      <td>12.5</td>\n",
       "      <td>26.1</td>\n",
       "      <td>No</td>\n",
       "      <td>No</td>\n",
       "    </tr>\n",
       "    <tr>\n",
       "      <th>145458</th>\n",
       "      <td>2017-06-24</td>\n",
       "      <td>Uluru</td>\n",
       "      <td>7.8</td>\n",
       "      <td>27.0</td>\n",
       "      <td>0.0</td>\n",
       "      <td>NaN</td>\n",
       "      <td>NaN</td>\n",
       "      <td>SE</td>\n",
       "      <td>28.0</td>\n",
       "      <td>SSE</td>\n",
       "      <td>N</td>\n",
       "      <td>13.0</td>\n",
       "      <td>7.0</td>\n",
       "      <td>51.0</td>\n",
       "      <td>24.0</td>\n",
       "      <td>1019.4</td>\n",
       "      <td>1016.5</td>\n",
       "      <td>3.0</td>\n",
       "      <td>2.0</td>\n",
       "      <td>15.1</td>\n",
       "      <td>26.0</td>\n",
       "      <td>No</td>\n",
       "      <td>No</td>\n",
       "    </tr>\n",
       "    <tr>\n",
       "      <th>145459</th>\n",
       "      <td>2017-06-25</td>\n",
       "      <td>Uluru</td>\n",
       "      <td>14.9</td>\n",
       "      <td>NaN</td>\n",
       "      <td>0.0</td>\n",
       "      <td>NaN</td>\n",
       "      <td>NaN</td>\n",
       "      <td>NaN</td>\n",
       "      <td>NaN</td>\n",
       "      <td>ESE</td>\n",
       "      <td>ESE</td>\n",
       "      <td>17.0</td>\n",
       "      <td>17.0</td>\n",
       "      <td>62.0</td>\n",
       "      <td>36.0</td>\n",
       "      <td>1020.2</td>\n",
       "      <td>1017.9</td>\n",
       "      <td>8.0</td>\n",
       "      <td>8.0</td>\n",
       "      <td>15.0</td>\n",
       "      <td>20.9</td>\n",
       "      <td>No</td>\n",
       "      <td>NaN</td>\n",
       "    </tr>\n",
       "  </tbody>\n",
       "</table>\n",
       "<p>145460 rows × 23 columns</p>\n",
       "</div>"
      ],
      "text/plain": [
       "              Date Location  MinTemp  MaxTemp  Rainfall  Evaporation  \\\n",
       "0       2008-12-01   Albury     13.4     22.9       0.6          NaN   \n",
       "1       2008-12-02   Albury      7.4     25.1       0.0          NaN   \n",
       "2       2008-12-03   Albury     12.9     25.7       0.0          NaN   \n",
       "3       2008-12-04   Albury      9.2     28.0       0.0          NaN   \n",
       "4       2008-12-05   Albury     17.5     32.3       1.0          NaN   \n",
       "...            ...      ...      ...      ...       ...          ...   \n",
       "145455  2017-06-21    Uluru      2.8     23.4       0.0          NaN   \n",
       "145456  2017-06-22    Uluru      3.6     25.3       0.0          NaN   \n",
       "145457  2017-06-23    Uluru      5.4     26.9       0.0          NaN   \n",
       "145458  2017-06-24    Uluru      7.8     27.0       0.0          NaN   \n",
       "145459  2017-06-25    Uluru     14.9      NaN       0.0          NaN   \n",
       "\n",
       "        Sunshine WindGustDir  WindGustSpeed WindDir9am WindDir3pm  \\\n",
       "0            NaN           W           44.0          W        WNW   \n",
       "1            NaN         WNW           44.0        NNW        WSW   \n",
       "2            NaN         WSW           46.0          W        WSW   \n",
       "3            NaN          NE           24.0         SE          E   \n",
       "4            NaN           W           41.0        ENE         NW   \n",
       "...          ...         ...            ...        ...        ...   \n",
       "145455       NaN           E           31.0         SE        ENE   \n",
       "145456       NaN         NNW           22.0         SE          N   \n",
       "145457       NaN           N           37.0         SE        WNW   \n",
       "145458       NaN          SE           28.0        SSE          N   \n",
       "145459       NaN         NaN            NaN        ESE        ESE   \n",
       "\n",
       "        WindSpeed9am  WindSpeed3pm  Humidity9am  Humidity3pm  Pressure9am  \\\n",
       "0               20.0          24.0         71.0         22.0       1007.7   \n",
       "1                4.0          22.0         44.0         25.0       1010.6   \n",
       "2               19.0          26.0         38.0         30.0       1007.6   \n",
       "3               11.0           9.0         45.0         16.0       1017.6   \n",
       "4                7.0          20.0         82.0         33.0       1010.8   \n",
       "...              ...           ...          ...          ...          ...   \n",
       "145455          13.0          11.0         51.0         24.0       1024.6   \n",
       "145456          13.0           9.0         56.0         21.0       1023.5   \n",
       "145457           9.0           9.0         53.0         24.0       1021.0   \n",
       "145458          13.0           7.0         51.0         24.0       1019.4   \n",
       "145459          17.0          17.0         62.0         36.0       1020.2   \n",
       "\n",
       "        Pressure3pm  Cloud9am  Cloud3pm  Temp9am  Temp3pm RainToday  \\\n",
       "0            1007.1       8.0       NaN     16.9     21.8        No   \n",
       "1            1007.8       NaN       NaN     17.2     24.3        No   \n",
       "2            1008.7       NaN       2.0     21.0     23.2        No   \n",
       "3            1012.8       NaN       NaN     18.1     26.5        No   \n",
       "4            1006.0       7.0       8.0     17.8     29.7        No   \n",
       "...             ...       ...       ...      ...      ...       ...   \n",
       "145455       1020.3       NaN       NaN     10.1     22.4        No   \n",
       "145456       1019.1       NaN       NaN     10.9     24.5        No   \n",
       "145457       1016.8       NaN       NaN     12.5     26.1        No   \n",
       "145458       1016.5       3.0       2.0     15.1     26.0        No   \n",
       "145459       1017.9       8.0       8.0     15.0     20.9        No   \n",
       "\n",
       "       RainTomorrow  \n",
       "0                No  \n",
       "1                No  \n",
       "2                No  \n",
       "3                No  \n",
       "4                No  \n",
       "...             ...  \n",
       "145455           No  \n",
       "145456           No  \n",
       "145457           No  \n",
       "145458           No  \n",
       "145459          NaN  \n",
       "\n",
       "[145460 rows x 23 columns]"
      ]
     },
     "execution_count": 7,
     "metadata": {},
     "output_type": "execute_result"
    }
   ],
   "source": [
    "raw_df"
   ]
  },
  {
   "cell_type": "markdown",
   "id": "enabling-indianapolis",
   "metadata": {
    "id": "enabling-indianapolis"
   },
   "source": [
    "Each row shows the measurements for a given date at a given location. The last column \"RainTomorrow\" contains the value to be predicted.\n",
    "\n",
    "Let's check the column types of the dataset."
   ]
  },
  {
   "cell_type": "code",
   "execution_count": 8,
   "id": "deadly-murray",
   "metadata": {
    "colab": {
     "base_uri": "https://localhost:8080/"
    },
    "executionInfo": {
     "elapsed": 626,
     "status": "ok",
     "timestamp": 1663001601925,
     "user": {
      "displayName": "Aakash N S",
      "userId": "03254185060287524023"
     },
     "user_tz": -330
    },
    "id": "deadly-murray",
    "outputId": "dbba464c-f28d-46e9-ea88-4d815b4fe512"
   },
   "outputs": [
    {
     "name": "stdout",
     "output_type": "stream",
     "text": [
      "<class 'pandas.core.frame.DataFrame'>\n",
      "RangeIndex: 145460 entries, 0 to 145459\n",
      "Data columns (total 23 columns):\n",
      " #   Column         Non-Null Count   Dtype  \n",
      "---  ------         --------------   -----  \n",
      " 0   Date           145460 non-null  object \n",
      " 1   Location       145460 non-null  object \n",
      " 2   MinTemp        143975 non-null  float64\n",
      " 3   MaxTemp        144199 non-null  float64\n",
      " 4   Rainfall       142199 non-null  float64\n",
      " 5   Evaporation    82670 non-null   float64\n",
      " 6   Sunshine       75625 non-null   float64\n",
      " 7   WindGustDir    135134 non-null  object \n",
      " 8   WindGustSpeed  135197 non-null  float64\n",
      " 9   WindDir9am     134894 non-null  object \n",
      " 10  WindDir3pm     141232 non-null  object \n",
      " 11  WindSpeed9am   143693 non-null  float64\n",
      " 12  WindSpeed3pm   142398 non-null  float64\n",
      " 13  Humidity9am    142806 non-null  float64\n",
      " 14  Humidity3pm    140953 non-null  float64\n",
      " 15  Pressure9am    130395 non-null  float64\n",
      " 16  Pressure3pm    130432 non-null  float64\n",
      " 17  Cloud9am       89572 non-null   float64\n",
      " 18  Cloud3pm       86102 non-null   float64\n",
      " 19  Temp9am        143693 non-null  float64\n",
      " 20  Temp3pm        141851 non-null  float64\n",
      " 21  RainToday      142199 non-null  object \n",
      " 22  RainTomorrow   142193 non-null  object \n",
      "dtypes: float64(16), object(7)\n",
      "memory usage: 25.5+ MB\n"
     ]
    }
   ],
   "source": [
    "raw_df.info()"
   ]
  },
  {
   "cell_type": "markdown",
   "id": "handy-recipient",
   "metadata": {
    "id": "handy-recipient"
   },
   "source": [
    "\n",
    "\n",
    "Let's drop any rows where the value of the target column `RainTomorrow` in empty."
   ]
  },
  {
   "cell_type": "code",
   "execution_count": 9,
   "id": "seven-franchise",
   "metadata": {
    "executionInfo": {
     "elapsed": 568,
     "status": "ok",
     "timestamp": 1663001604142,
     "user": {
      "displayName": "Aakash N S",
      "userId": "03254185060287524023"
     },
     "user_tz": -330
    },
    "id": "seven-franchise"
   },
   "outputs": [],
   "source": [
    "raw_df.dropna(subset=['RainTomorrow'], inplace=True)"
   ]
  },
  {
   "cell_type": "code",
   "execution_count": 10,
   "id": "915d2481",
   "metadata": {},
   "outputs": [
    {
     "data": {
      "text/html": [
       "<div>\n",
       "<style scoped>\n",
       "    .dataframe tbody tr th:only-of-type {\n",
       "        vertical-align: middle;\n",
       "    }\n",
       "\n",
       "    .dataframe tbody tr th {\n",
       "        vertical-align: top;\n",
       "    }\n",
       "\n",
       "    .dataframe thead th {\n",
       "        text-align: right;\n",
       "    }\n",
       "</style>\n",
       "<table border=\"1\" class=\"dataframe\">\n",
       "  <thead>\n",
       "    <tr style=\"text-align: right;\">\n",
       "      <th></th>\n",
       "      <th>Date</th>\n",
       "      <th>Location</th>\n",
       "      <th>MinTemp</th>\n",
       "      <th>MaxTemp</th>\n",
       "      <th>Rainfall</th>\n",
       "      <th>Evaporation</th>\n",
       "      <th>Sunshine</th>\n",
       "      <th>WindGustDir</th>\n",
       "      <th>WindGustSpeed</th>\n",
       "      <th>WindDir9am</th>\n",
       "      <th>WindDir3pm</th>\n",
       "      <th>WindSpeed9am</th>\n",
       "      <th>WindSpeed3pm</th>\n",
       "      <th>Humidity9am</th>\n",
       "      <th>Humidity3pm</th>\n",
       "      <th>Pressure9am</th>\n",
       "      <th>Pressure3pm</th>\n",
       "      <th>Cloud9am</th>\n",
       "      <th>Cloud3pm</th>\n",
       "      <th>Temp9am</th>\n",
       "      <th>Temp3pm</th>\n",
       "      <th>RainToday</th>\n",
       "      <th>RainTomorrow</th>\n",
       "    </tr>\n",
       "  </thead>\n",
       "  <tbody>\n",
       "    <tr>\n",
       "      <th>0</th>\n",
       "      <td>2008-12-01</td>\n",
       "      <td>Albury</td>\n",
       "      <td>13.4</td>\n",
       "      <td>22.9</td>\n",
       "      <td>0.6</td>\n",
       "      <td>NaN</td>\n",
       "      <td>NaN</td>\n",
       "      <td>W</td>\n",
       "      <td>44.0</td>\n",
       "      <td>W</td>\n",
       "      <td>WNW</td>\n",
       "      <td>20.0</td>\n",
       "      <td>24.0</td>\n",
       "      <td>71.0</td>\n",
       "      <td>22.0</td>\n",
       "      <td>1007.7</td>\n",
       "      <td>1007.1</td>\n",
       "      <td>8.0</td>\n",
       "      <td>NaN</td>\n",
       "      <td>16.9</td>\n",
       "      <td>21.8</td>\n",
       "      <td>No</td>\n",
       "      <td>No</td>\n",
       "    </tr>\n",
       "    <tr>\n",
       "      <th>1</th>\n",
       "      <td>2008-12-02</td>\n",
       "      <td>Albury</td>\n",
       "      <td>7.4</td>\n",
       "      <td>25.1</td>\n",
       "      <td>0.0</td>\n",
       "      <td>NaN</td>\n",
       "      <td>NaN</td>\n",
       "      <td>WNW</td>\n",
       "      <td>44.0</td>\n",
       "      <td>NNW</td>\n",
       "      <td>WSW</td>\n",
       "      <td>4.0</td>\n",
       "      <td>22.0</td>\n",
       "      <td>44.0</td>\n",
       "      <td>25.0</td>\n",
       "      <td>1010.6</td>\n",
       "      <td>1007.8</td>\n",
       "      <td>NaN</td>\n",
       "      <td>NaN</td>\n",
       "      <td>17.2</td>\n",
       "      <td>24.3</td>\n",
       "      <td>No</td>\n",
       "      <td>No</td>\n",
       "    </tr>\n",
       "    <tr>\n",
       "      <th>2</th>\n",
       "      <td>2008-12-03</td>\n",
       "      <td>Albury</td>\n",
       "      <td>12.9</td>\n",
       "      <td>25.7</td>\n",
       "      <td>0.0</td>\n",
       "      <td>NaN</td>\n",
       "      <td>NaN</td>\n",
       "      <td>WSW</td>\n",
       "      <td>46.0</td>\n",
       "      <td>W</td>\n",
       "      <td>WSW</td>\n",
       "      <td>19.0</td>\n",
       "      <td>26.0</td>\n",
       "      <td>38.0</td>\n",
       "      <td>30.0</td>\n",
       "      <td>1007.6</td>\n",
       "      <td>1008.7</td>\n",
       "      <td>NaN</td>\n",
       "      <td>2.0</td>\n",
       "      <td>21.0</td>\n",
       "      <td>23.2</td>\n",
       "      <td>No</td>\n",
       "      <td>No</td>\n",
       "    </tr>\n",
       "    <tr>\n",
       "      <th>3</th>\n",
       "      <td>2008-12-04</td>\n",
       "      <td>Albury</td>\n",
       "      <td>9.2</td>\n",
       "      <td>28.0</td>\n",
       "      <td>0.0</td>\n",
       "      <td>NaN</td>\n",
       "      <td>NaN</td>\n",
       "      <td>NE</td>\n",
       "      <td>24.0</td>\n",
       "      <td>SE</td>\n",
       "      <td>E</td>\n",
       "      <td>11.0</td>\n",
       "      <td>9.0</td>\n",
       "      <td>45.0</td>\n",
       "      <td>16.0</td>\n",
       "      <td>1017.6</td>\n",
       "      <td>1012.8</td>\n",
       "      <td>NaN</td>\n",
       "      <td>NaN</td>\n",
       "      <td>18.1</td>\n",
       "      <td>26.5</td>\n",
       "      <td>No</td>\n",
       "      <td>No</td>\n",
       "    </tr>\n",
       "    <tr>\n",
       "      <th>4</th>\n",
       "      <td>2008-12-05</td>\n",
       "      <td>Albury</td>\n",
       "      <td>17.5</td>\n",
       "      <td>32.3</td>\n",
       "      <td>1.0</td>\n",
       "      <td>NaN</td>\n",
       "      <td>NaN</td>\n",
       "      <td>W</td>\n",
       "      <td>41.0</td>\n",
       "      <td>ENE</td>\n",
       "      <td>NW</td>\n",
       "      <td>7.0</td>\n",
       "      <td>20.0</td>\n",
       "      <td>82.0</td>\n",
       "      <td>33.0</td>\n",
       "      <td>1010.8</td>\n",
       "      <td>1006.0</td>\n",
       "      <td>7.0</td>\n",
       "      <td>8.0</td>\n",
       "      <td>17.8</td>\n",
       "      <td>29.7</td>\n",
       "      <td>No</td>\n",
       "      <td>No</td>\n",
       "    </tr>\n",
       "    <tr>\n",
       "      <th>...</th>\n",
       "      <td>...</td>\n",
       "      <td>...</td>\n",
       "      <td>...</td>\n",
       "      <td>...</td>\n",
       "      <td>...</td>\n",
       "      <td>...</td>\n",
       "      <td>...</td>\n",
       "      <td>...</td>\n",
       "      <td>...</td>\n",
       "      <td>...</td>\n",
       "      <td>...</td>\n",
       "      <td>...</td>\n",
       "      <td>...</td>\n",
       "      <td>...</td>\n",
       "      <td>...</td>\n",
       "      <td>...</td>\n",
       "      <td>...</td>\n",
       "      <td>...</td>\n",
       "      <td>...</td>\n",
       "      <td>...</td>\n",
       "      <td>...</td>\n",
       "      <td>...</td>\n",
       "      <td>...</td>\n",
       "    </tr>\n",
       "    <tr>\n",
       "      <th>145454</th>\n",
       "      <td>2017-06-20</td>\n",
       "      <td>Uluru</td>\n",
       "      <td>3.5</td>\n",
       "      <td>21.8</td>\n",
       "      <td>0.0</td>\n",
       "      <td>NaN</td>\n",
       "      <td>NaN</td>\n",
       "      <td>E</td>\n",
       "      <td>31.0</td>\n",
       "      <td>ESE</td>\n",
       "      <td>E</td>\n",
       "      <td>15.0</td>\n",
       "      <td>13.0</td>\n",
       "      <td>59.0</td>\n",
       "      <td>27.0</td>\n",
       "      <td>1024.7</td>\n",
       "      <td>1021.2</td>\n",
       "      <td>NaN</td>\n",
       "      <td>NaN</td>\n",
       "      <td>9.4</td>\n",
       "      <td>20.9</td>\n",
       "      <td>No</td>\n",
       "      <td>No</td>\n",
       "    </tr>\n",
       "    <tr>\n",
       "      <th>145455</th>\n",
       "      <td>2017-06-21</td>\n",
       "      <td>Uluru</td>\n",
       "      <td>2.8</td>\n",
       "      <td>23.4</td>\n",
       "      <td>0.0</td>\n",
       "      <td>NaN</td>\n",
       "      <td>NaN</td>\n",
       "      <td>E</td>\n",
       "      <td>31.0</td>\n",
       "      <td>SE</td>\n",
       "      <td>ENE</td>\n",
       "      <td>13.0</td>\n",
       "      <td>11.0</td>\n",
       "      <td>51.0</td>\n",
       "      <td>24.0</td>\n",
       "      <td>1024.6</td>\n",
       "      <td>1020.3</td>\n",
       "      <td>NaN</td>\n",
       "      <td>NaN</td>\n",
       "      <td>10.1</td>\n",
       "      <td>22.4</td>\n",
       "      <td>No</td>\n",
       "      <td>No</td>\n",
       "    </tr>\n",
       "    <tr>\n",
       "      <th>145456</th>\n",
       "      <td>2017-06-22</td>\n",
       "      <td>Uluru</td>\n",
       "      <td>3.6</td>\n",
       "      <td>25.3</td>\n",
       "      <td>0.0</td>\n",
       "      <td>NaN</td>\n",
       "      <td>NaN</td>\n",
       "      <td>NNW</td>\n",
       "      <td>22.0</td>\n",
       "      <td>SE</td>\n",
       "      <td>N</td>\n",
       "      <td>13.0</td>\n",
       "      <td>9.0</td>\n",
       "      <td>56.0</td>\n",
       "      <td>21.0</td>\n",
       "      <td>1023.5</td>\n",
       "      <td>1019.1</td>\n",
       "      <td>NaN</td>\n",
       "      <td>NaN</td>\n",
       "      <td>10.9</td>\n",
       "      <td>24.5</td>\n",
       "      <td>No</td>\n",
       "      <td>No</td>\n",
       "    </tr>\n",
       "    <tr>\n",
       "      <th>145457</th>\n",
       "      <td>2017-06-23</td>\n",
       "      <td>Uluru</td>\n",
       "      <td>5.4</td>\n",
       "      <td>26.9</td>\n",
       "      <td>0.0</td>\n",
       "      <td>NaN</td>\n",
       "      <td>NaN</td>\n",
       "      <td>N</td>\n",
       "      <td>37.0</td>\n",
       "      <td>SE</td>\n",
       "      <td>WNW</td>\n",
       "      <td>9.0</td>\n",
       "      <td>9.0</td>\n",
       "      <td>53.0</td>\n",
       "      <td>24.0</td>\n",
       "      <td>1021.0</td>\n",
       "      <td>1016.8</td>\n",
       "      <td>NaN</td>\n",
       "      <td>NaN</td>\n",
       "      <td>12.5</td>\n",
       "      <td>26.1</td>\n",
       "      <td>No</td>\n",
       "      <td>No</td>\n",
       "    </tr>\n",
       "    <tr>\n",
       "      <th>145458</th>\n",
       "      <td>2017-06-24</td>\n",
       "      <td>Uluru</td>\n",
       "      <td>7.8</td>\n",
       "      <td>27.0</td>\n",
       "      <td>0.0</td>\n",
       "      <td>NaN</td>\n",
       "      <td>NaN</td>\n",
       "      <td>SE</td>\n",
       "      <td>28.0</td>\n",
       "      <td>SSE</td>\n",
       "      <td>N</td>\n",
       "      <td>13.0</td>\n",
       "      <td>7.0</td>\n",
       "      <td>51.0</td>\n",
       "      <td>24.0</td>\n",
       "      <td>1019.4</td>\n",
       "      <td>1016.5</td>\n",
       "      <td>3.0</td>\n",
       "      <td>2.0</td>\n",
       "      <td>15.1</td>\n",
       "      <td>26.0</td>\n",
       "      <td>No</td>\n",
       "      <td>No</td>\n",
       "    </tr>\n",
       "  </tbody>\n",
       "</table>\n",
       "<p>142193 rows × 23 columns</p>\n",
       "</div>"
      ],
      "text/plain": [
       "              Date Location  MinTemp  MaxTemp  Rainfall  Evaporation  \\\n",
       "0       2008-12-01   Albury     13.4     22.9       0.6          NaN   \n",
       "1       2008-12-02   Albury      7.4     25.1       0.0          NaN   \n",
       "2       2008-12-03   Albury     12.9     25.7       0.0          NaN   \n",
       "3       2008-12-04   Albury      9.2     28.0       0.0          NaN   \n",
       "4       2008-12-05   Albury     17.5     32.3       1.0          NaN   \n",
       "...            ...      ...      ...      ...       ...          ...   \n",
       "145454  2017-06-20    Uluru      3.5     21.8       0.0          NaN   \n",
       "145455  2017-06-21    Uluru      2.8     23.4       0.0          NaN   \n",
       "145456  2017-06-22    Uluru      3.6     25.3       0.0          NaN   \n",
       "145457  2017-06-23    Uluru      5.4     26.9       0.0          NaN   \n",
       "145458  2017-06-24    Uluru      7.8     27.0       0.0          NaN   \n",
       "\n",
       "        Sunshine WindGustDir  WindGustSpeed WindDir9am WindDir3pm  \\\n",
       "0            NaN           W           44.0          W        WNW   \n",
       "1            NaN         WNW           44.0        NNW        WSW   \n",
       "2            NaN         WSW           46.0          W        WSW   \n",
       "3            NaN          NE           24.0         SE          E   \n",
       "4            NaN           W           41.0        ENE         NW   \n",
       "...          ...         ...            ...        ...        ...   \n",
       "145454       NaN           E           31.0        ESE          E   \n",
       "145455       NaN           E           31.0         SE        ENE   \n",
       "145456       NaN         NNW           22.0         SE          N   \n",
       "145457       NaN           N           37.0         SE        WNW   \n",
       "145458       NaN          SE           28.0        SSE          N   \n",
       "\n",
       "        WindSpeed9am  WindSpeed3pm  Humidity9am  Humidity3pm  Pressure9am  \\\n",
       "0               20.0          24.0         71.0         22.0       1007.7   \n",
       "1                4.0          22.0         44.0         25.0       1010.6   \n",
       "2               19.0          26.0         38.0         30.0       1007.6   \n",
       "3               11.0           9.0         45.0         16.0       1017.6   \n",
       "4                7.0          20.0         82.0         33.0       1010.8   \n",
       "...              ...           ...          ...          ...          ...   \n",
       "145454          15.0          13.0         59.0         27.0       1024.7   \n",
       "145455          13.0          11.0         51.0         24.0       1024.6   \n",
       "145456          13.0           9.0         56.0         21.0       1023.5   \n",
       "145457           9.0           9.0         53.0         24.0       1021.0   \n",
       "145458          13.0           7.0         51.0         24.0       1019.4   \n",
       "\n",
       "        Pressure3pm  Cloud9am  Cloud3pm  Temp9am  Temp3pm RainToday  \\\n",
       "0            1007.1       8.0       NaN     16.9     21.8        No   \n",
       "1            1007.8       NaN       NaN     17.2     24.3        No   \n",
       "2            1008.7       NaN       2.0     21.0     23.2        No   \n",
       "3            1012.8       NaN       NaN     18.1     26.5        No   \n",
       "4            1006.0       7.0       8.0     17.8     29.7        No   \n",
       "...             ...       ...       ...      ...      ...       ...   \n",
       "145454       1021.2       NaN       NaN      9.4     20.9        No   \n",
       "145455       1020.3       NaN       NaN     10.1     22.4        No   \n",
       "145456       1019.1       NaN       NaN     10.9     24.5        No   \n",
       "145457       1016.8       NaN       NaN     12.5     26.1        No   \n",
       "145458       1016.5       3.0       2.0     15.1     26.0        No   \n",
       "\n",
       "       RainTomorrow  \n",
       "0                No  \n",
       "1                No  \n",
       "2                No  \n",
       "3                No  \n",
       "4                No  \n",
       "...             ...  \n",
       "145454           No  \n",
       "145455           No  \n",
       "145456           No  \n",
       "145457           No  \n",
       "145458           No  \n",
       "\n",
       "[142193 rows x 23 columns]"
      ]
     },
     "execution_count": 10,
     "metadata": {},
     "output_type": "execute_result"
    }
   ],
   "source": [
    "raw_df"
   ]
  },
  {
   "cell_type": "markdown",
   "id": "honest-sleeve",
   "metadata": {
    "id": "honest-sleeve"
   },
   "source": [
    "Let's save our work before continuing."
   ]
  },
  {
   "cell_type": "markdown",
   "id": "proper-chinese",
   "metadata": {
    "id": "proper-chinese"
   },
   "source": [
    "> **EXERCISE**: Perform exploratory data analysis on the dataset and study the relationship of other columns with the `RainTomorrow` column."
   ]
  },
  {
   "cell_type": "code",
   "execution_count": 11,
   "id": "bad68cbf",
   "metadata": {},
   "outputs": [],
   "source": [
    "import plotly.express as px"
   ]
  },
  {
   "cell_type": "code",
   "execution_count": 12,
   "id": "running-cloud",
   "metadata": {
    "executionInfo": {
     "elapsed": 1,
     "status": "ok",
     "timestamp": 1663001606171,
     "user": {
      "displayName": "Aakash N S",
      "userId": "03254185060287524023"
     },
     "user_tz": -330
    },
    "id": "running-cloud"
   },
   "outputs": [
    {
     "name": "stderr",
     "output_type": "stream",
     "text": [
      "C:\\Users\\Mohit Bhilwara\\AppData\\Local\\Programs\\Python\\Python310\\lib\\site-packages\\seaborn\\_decorators.py:36: FutureWarning: Pass the following variables as keyword args: x, y. From version 0.12, the only valid positional argument will be `data`, and passing other arguments without an explicit keyword will result in an error or misinterpretation.\n",
      "  warnings.warn(\n"
     ]
    },
    {
     "data": {
      "image/png": "[encoded data removed]",
      "text/plain": [
       "<Figure size 720x432 with 1 Axes>"
      ]
     },
     "metadata": {
      "needs_background": "light"
     },
     "output_type": "display_data"
    }
   ],
   "source": [
    "sns.scatterplot(raw_df.MinTemp,raw_df.MaxTemp, hue = raw_df.RainTomorrow);"
   ]
  },
  {
   "cell_type": "code",
   "execution_count": 13,
   "id": "cb4026ac",
   "metadata": {},
   "outputs": [],
   "source": [
    "# plt.bar(raw_df.Location,raw_df.RainTomorrow)\n",
    "# plt.title('Most predicted rainfull area');a\n"
   ]
  },
  {
   "cell_type": "code",
   "execution_count": 14,
   "id": "774109bf",
   "metadata": {},
   "outputs": [
    {
     "data": {
      "text/plain": [
       "No     109332\n",
       "Yes     31455\n",
       "Name: RainToday, dtype: int64"
      ]
     },
     "execution_count": 14,
     "metadata": {},
     "output_type": "execute_result"
    }
   ],
   "source": [
    "raintoday = raw_df.RainToday.value_counts()\n",
    "raintoday"
   ]
  },
  {
   "cell_type": "code",
   "execution_count": 15,
   "id": "37b2dcd9",
   "metadata": {
    "scrolled": true
   },
   "outputs": [
    {
     "data": {
      "image/png": "[encoded data removed]",
      "text/plain": [
       "<Figure size 720x432 with 1 Axes>"
      ]
     },
     "metadata": {
      "needs_background": "light"
     },
     "output_type": "display_data"
    }
   ],
   "source": [
    "plt.bar(raintoday.index,raintoday);"
   ]
  },
  {
   "cell_type": "code",
   "execution_count": 16,
   "id": "8f37262f",
   "metadata": {},
   "outputs": [
    {
     "data": {
      "text/plain": [
       "No     110316\n",
       "Yes     31877\n",
       "Name: RainTomorrow, dtype: int64"
      ]
     },
     "execution_count": 16,
     "metadata": {},
     "output_type": "execute_result"
    }
   ],
   "source": [
    "raintomorrow = raw_df.RainTomorrow.value_counts()\n",
    "raintomorrow"
   ]
  },
  {
   "cell_type": "code",
   "execution_count": 17,
   "id": "a906b514",
   "metadata": {},
   "outputs": [
    {
     "data": {
      "text/plain": [
       "<BarContainer object of 2 artists>"
      ]
     },
     "execution_count": 17,
     "metadata": {},
     "output_type": "execute_result"
    },
    {
     "data": {
      "image/png": "[encoded data removed]",
      "text/plain": [
       "<Figure size 720x432 with 1 Axes>"
      ]
     },
     "metadata": {
      "needs_background": "light"
     },
     "output_type": "display_data"
    }
   ],
   "source": [
    "plt.bar(raintomorrow.index,raintomorrow)"
   ]
  },
  {
   "cell_type": "markdown",
   "id": "209bbd37",
   "metadata": {},
   "source": [
    "# Most Rainy Area"
   ]
  },
  {
   "cell_type": "code",
   "execution_count": null,
   "id": "a98787f9",
   "metadata": {},
   "outputs": [],
   "source": []
  },
  {
   "cell_type": "code",
   "execution_count": 18,
   "id": "66451a55",
   "metadata": {},
   "outputs": [],
   "source": [
    "most_rain = raw_df[raw_df['RainToday']=='Yes']"
   ]
  },
  {
   "cell_type": "code",
   "execution_count": 19,
   "id": "7880329f",
   "metadata": {},
   "outputs": [],
   "source": [
    "loc = most_rain.Location.value_counts()"
   ]
  },
  {
   "cell_type": "code",
   "execution_count": 20,
   "id": "f410513d",
   "metadata": {
    "scrolled": true
   },
   "outputs": [
    {
     "name": "stderr",
     "output_type": "stream",
     "text": [
      "C:\\Users\\Mohit Bhilwara\\AppData\\Local\\Programs\\Python\\Python310\\lib\\site-packages\\seaborn\\_decorators.py:36: FutureWarning: Pass the following variables as keyword args: x, y. From version 0.12, the only valid positional argument will be `data`, and passing other arguments without an explicit keyword will result in an error or misinterpretation.\n",
      "  warnings.warn(\n"
     ]
    },
    {
     "data": {
      "image/png": "[encoded data removed]",
      "text/plain": [
       "<Figure size 1280x960 with 1 Axes>"
      ]
     },
     "metadata": {
      "needs_background": "light"
     },
     "output_type": "display_data"
    }
   ],
   "source": [
    "plt.figure(figsize = (16,12),dpi = 80)\n",
    "sns.barplot(loc,loc.index)\n",
    "plt.title('Most Rainy Area',fontsize = 50)\n",
    "plt.ylabel('Countries',fontsize = 30)\n",
    "plt.xlabel('Counts',fontsize = 30);"
   ]
  },
  {
   "cell_type": "code",
   "execution_count": 21,
   "id": "4a6ee49c",
   "metadata": {},
   "outputs": [
    {
     "data": {
      "image/png": "[encoded data removed]",
      "text/plain": [
       "<Figure size 864x576 with 2 Axes>"
      ]
     },
     "metadata": {
      "needs_background": "light"
     },
     "output_type": "display_data"
    }
   ],
   "source": [
    "plt.figure(figsize= (12,8))\n",
    "sns.heatmap(raw_df.corr(),annot = True)\n",
    "plt.title('Correlation matrix',fontsize = 50);"
   ]
  },
  {
   "cell_type": "code",
   "execution_count": null,
   "id": "70f75e94",
   "metadata": {},
   "outputs": [],
   "source": []
  },
  {
   "cell_type": "code",
   "execution_count": null,
   "id": "2512fec3",
   "metadata": {},
   "outputs": [],
   "source": []
  },
  {
   "cell_type": "code",
   "execution_count": null,
   "id": "a09009b1",
   "metadata": {},
   "outputs": [],
   "source": []
  },
  {
   "cell_type": "code",
   "execution_count": 22,
   "id": "peaceful-season",
   "metadata": {
    "colab": {
     "base_uri": "https://localhost:8080/",
     "height": 125
    },
    "executionInfo": {
     "elapsed": 11805,
     "status": "ok",
     "timestamp": 1663001619756,
     "user": {
      "displayName": "Aakash N S",
      "userId": "03254185060287524023"
     },
     "user_tz": -330
    },
    "id": "peaceful-season",
    "outputId": "6f9919ce-aaa7-4570-bd17-621e81fc5c68"
   },
   "outputs": [],
   "source": [
    "# jovian.commit()"
   ]
  },
  {
   "cell_type": "markdown",
   "id": "adapted-project",
   "metadata": {
    "id": "adapted-project"
   },
   "source": [
    "## Preparing the Data for Training\n",
    "\n",
    "We'll perform the following steps to prepare the dataset for training:\n",
    "\n",
    "1. Create a train/test/validation split\n",
    "2. Identify input and target columns\n",
    "3. Identify numeric and categorical columns\n",
    "4. Impute (fill) missing numeric values\n",
    "5. Scale numeric values to the $(0, 1)$ range\n",
    "6. Encode categorical columns to one-hot vectors"
   ]
  },
  {
   "cell_type": "markdown",
   "id": "bizarre-period",
   "metadata": {
    "id": "bizarre-period"
   },
   "source": [
    "### Training, Validation and Test Sets"
   ]
  },
  {
   "cell_type": "code",
   "execution_count": 23,
   "id": "secure-dominican",
   "metadata": {
    "colab": {
     "base_uri": "https://localhost:8080/",
     "height": 416
    },
    "executionInfo": {
     "elapsed": 929,
     "status": "ok",
     "timestamp": 1663001622989,
     "user": {
      "displayName": "Aakash N S",
      "userId": "03254185060287524023"
     },
     "user_tz": -330
    },
    "id": "secure-dominican",
    "outputId": "b4719ea7-0825-4239-8b03-8be20934e9e8"
   },
   "outputs": [
    {
     "data": {
      "image/png": "[encoded data removed]",
      "text/plain": [
       "<Figure size 720x432 with 1 Axes>"
      ]
     },
     "metadata": {
      "needs_background": "light"
     },
     "output_type": "display_data"
    }
   ],
   "source": [
    "plt.title('No. of Rows per Year')\n",
    "sns.countplot(x=pd.to_datetime(raw_df.Date).dt.year);"
   ]
  },
  {
   "cell_type": "markdown",
   "id": "medium-prospect",
   "metadata": {
    "id": "medium-prospect"
   },
   "source": [
    "While working with chronological data, it's often a good idea to separate the training, validation and test sets with time, so that the model is trained on data from the past and evaluated on data from the future.\n",
    "\n",
    "We'll use the data till 2014 for the training set, data from 2015 for the validation set, and the data from 2016 & 2017 for the test set.  "
   ]
  },
  {
   "cell_type": "code",
   "execution_count": 24,
   "id": "quarterly-pillow",
   "metadata": {
    "executionInfo": {
     "elapsed": 340,
     "status": "ok",
     "timestamp": 1663001625337,
     "user": {
      "displayName": "Aakash N S",
      "userId": "03254185060287524023"
     },
     "user_tz": -330
    },
    "id": "quarterly-pillow"
   },
   "outputs": [],
   "source": [
    "year = pd.to_datetime(raw_df.Date).dt.year\n",
    "\n",
    "train_df = raw_df[year < 2015]\n",
    "val_df = raw_df[year == 2015]\n",
    "test_df = raw_df[year > 2015]"
   ]
  },
  {
   "cell_type": "code",
   "execution_count": 25,
   "id": "convenient-evidence",
   "metadata": {
    "colab": {
     "base_uri": "https://localhost:8080/"
    },
    "executionInfo": {
     "elapsed": 3,
     "status": "ok",
     "timestamp": 1663001626935,
     "user": {
      "displayName": "Aakash N S",
      "userId": "03254185060287524023"
     },
     "user_tz": -330
    },
    "id": "convenient-evidence",
    "outputId": "4a7a5dc7-cfae-46e9-a84b-986bb207b330"
   },
   "outputs": [
    {
     "name": "stdout",
     "output_type": "stream",
     "text": [
      "train_df.shape : (98988, 23)\n",
      "val_df.shape : (17231, 23)\n",
      "test_df.shape : (25974, 23)\n"
     ]
    }
   ],
   "source": [
    "print('train_df.shape :', train_df.shape)\n",
    "print('val_df.shape :', val_df.shape)\n",
    "print('test_df.shape :', test_df.shape)"
   ]
  },
  {
   "cell_type": "markdown",
   "id": "intellectual-nature",
   "metadata": {
    "id": "intellectual-nature"
   },
   "source": [
    "### Input and Target Columns\n",
    "\n",
    "Let's identify the input and target columns."
   ]
  },
  {
   "cell_type": "code",
   "execution_count": 26,
   "id": "musical-skating",
   "metadata": {
    "executionInfo": {
     "elapsed": 2,
     "status": "ok",
     "timestamp": 1663001630563,
     "user": {
      "displayName": "Aakash N S",
      "userId": "03254185060287524023"
     },
     "user_tz": -330
    },
    "id": "musical-skating"
   },
   "outputs": [],
   "source": [
    "input_cols = list(train_df.columns)[1:-1]\n",
    "target_col = 'RainTomorrow'"
   ]
  },
  {
   "cell_type": "code",
   "execution_count": 27,
   "id": "recreational-console",
   "metadata": {
    "executionInfo": {
     "elapsed": 1,
     "status": "ok",
     "timestamp": 1663001631152,
     "user": {
      "displayName": "Aakash N S",
      "userId": "03254185060287524023"
     },
     "user_tz": -330
    },
    "id": "recreational-console"
   },
   "outputs": [],
   "source": [
    "train_inputs = train_df[input_cols].copy()\n",
    "train_targets = train_df[target_col].copy()"
   ]
  },
  {
   "cell_type": "code",
   "execution_count": 28,
   "id": "parliamentary-painting",
   "metadata": {
    "executionInfo": {
     "elapsed": 2,
     "status": "ok",
     "timestamp": 1663001631616,
     "user": {
      "displayName": "Aakash N S",
      "userId": "03254185060287524023"
     },
     "user_tz": -330
    },
    "id": "parliamentary-painting"
   },
   "outputs": [],
   "source": [
    "val_inputs = val_df[input_cols].copy()\n",
    "val_targets = val_df[target_col].copy()"
   ]
  },
  {
   "cell_type": "code",
   "execution_count": 29,
   "id": "superior-dance",
   "metadata": {
    "executionInfo": {
     "elapsed": 1,
     "status": "ok",
     "timestamp": 1663001632049,
     "user": {
      "displayName": "Aakash N S",
      "userId": "03254185060287524023"
     },
     "user_tz": -330
    },
    "id": "superior-dance"
   },
   "outputs": [],
   "source": [
    "test_inputs = test_df[input_cols].copy()\n",
    "test_targets = test_df[target_col].copy()"
   ]
  },
  {
   "cell_type": "markdown",
   "id": "static-temperature",
   "metadata": {
    "id": "static-temperature"
   },
   "source": [
    "Let's also identify the numeric and categorical columns."
   ]
  },
  {
   "cell_type": "code",
   "execution_count": 30,
   "id": "welcome-viking",
   "metadata": {
    "executionInfo": {
     "elapsed": 406,
     "status": "ok",
     "timestamp": 1663001643931,
     "user": {
      "displayName": "Aakash N S",
      "userId": "03254185060287524023"
     },
     "user_tz": -330
    },
    "id": "welcome-viking"
   },
   "outputs": [],
   "source": [
    "numeric_cols = train_inputs.select_dtypes(include=np.number).columns.tolist()\n",
    "categorical_cols = train_inputs.select_dtypes('object').columns.tolist()"
   ]
  },
  {
   "cell_type": "code",
   "execution_count": 31,
   "id": "starting-teach",
   "metadata": {
    "colab": {
     "base_uri": "https://localhost:8080/"
    },
    "executionInfo": {
     "elapsed": 12,
     "status": "ok",
     "timestamp": 1663001645527,
     "user": {
      "displayName": "Aakash N S",
      "userId": "03254185060287524023"
     },
     "user_tz": -330
    },
    "id": "starting-teach",
    "outputId": "4b7bb985-8352-4717-8ca6-e6e9f9bdfc2c"
   },
   "outputs": [
    {
     "name": "stdout",
     "output_type": "stream",
     "text": [
      "['MinTemp', 'MaxTemp', 'Rainfall', 'Evaporation', 'Sunshine', 'WindGustSpeed', 'WindSpeed9am', 'WindSpeed3pm', 'Humidity9am', 'Humidity3pm', 'Pressure9am', 'Pressure3pm', 'Cloud9am', 'Cloud3pm', 'Temp9am', 'Temp3pm']\n"
     ]
    }
   ],
   "source": [
    "print(numeric_cols)"
   ]
  },
  {
   "cell_type": "code",
   "execution_count": 32,
   "id": "bacterial-proportion",
   "metadata": {
    "colab": {
     "base_uri": "https://localhost:8080/"
    },
    "executionInfo": {
     "elapsed": 3,
     "status": "ok",
     "timestamp": 1663001645878,
     "user": {
      "displayName": "Aakash N S",
      "userId": "03254185060287524023"
     },
     "user_tz": -330
    },
    "id": "bacterial-proportion",
    "outputId": "cba468a8-1f75-42f1-b25e-e6fe54048807"
   },
   "outputs": [
    {
     "name": "stdout",
     "output_type": "stream",
     "text": [
      "['Location', 'WindGustDir', 'WindDir9am', 'WindDir3pm', 'RainToday']\n"
     ]
    }
   ],
   "source": [
    "print(categorical_cols)"
   ]
  },
  {
   "cell_type": "markdown",
   "id": "fancy-county",
   "metadata": {
    "id": "fancy-county"
   },
   "source": [
    "> **EXERCISE**: Study how various columns are correlated with the target and select just a subset of the columns, instead of all of the. Observe how it affects the results."
   ]
  },
  {
   "cell_type": "code",
   "execution_count": null,
   "id": "reliable-portable",
   "metadata": {
    "executionInfo": {
     "elapsed": 512,
     "status": "ok",
     "timestamp": 1663001648046,
     "user": {
      "displayName": "Aakash N S",
      "userId": "03254185060287524023"
     },
     "user_tz": -330
    },
    "id": "reliable-portable"
   },
   "outputs": [],
   "source": []
  },
  {
   "cell_type": "markdown",
   "id": "induced-tuner",
   "metadata": {
    "id": "induced-tuner"
   },
   "source": [
    "### Imputing missing numeric values"
   ]
  },
  {
   "cell_type": "code",
   "execution_count": 33,
   "id": "metric-storm",
   "metadata": {
    "executionInfo": {
     "elapsed": 363,
     "status": "ok",
     "timestamp": 1663001649551,
     "user": {
      "displayName": "Aakash N S",
      "userId": "03254185060287524023"
     },
     "user_tz": -330
    },
    "id": "metric-storm"
   },
   "outputs": [],
   "source": [
    "from sklearn.impute import SimpleImputer"
   ]
  },
  {
   "cell_type": "code",
   "execution_count": 34,
   "id": "cardiac-nelson",
   "metadata": {
    "executionInfo": {
     "elapsed": 2,
     "status": "ok",
     "timestamp": 1663001649909,
     "user": {
      "displayName": "Aakash N S",
      "userId": "03254185060287524023"
     },
     "user_tz": -330
    },
    "id": "cardiac-nelson"
   },
   "outputs": [],
   "source": [
    "imputer = SimpleImputer(strategy = 'mean').fit(raw_df[numeric_cols])"
   ]
  },
  {
   "cell_type": "code",
   "execution_count": 35,
   "id": "pacific-peter",
   "metadata": {
    "executionInfo": {
     "elapsed": 2,
     "status": "ok",
     "timestamp": 1663001651027,
     "user": {
      "displayName": "Aakash N S",
      "userId": "03254185060287524023"
     },
     "user_tz": -330
    },
    "id": "pacific-peter"
   },
   "outputs": [],
   "source": [
    "train_inputs[numeric_cols] = imputer.transform(train_inputs[numeric_cols])\n",
    "val_inputs[numeric_cols] = imputer.transform(val_inputs[numeric_cols])\n",
    "test_inputs[numeric_cols] = imputer.transform(test_inputs[numeric_cols])"
   ]
  },
  {
   "cell_type": "code",
   "execution_count": 36,
   "id": "assisted-brisbane",
   "metadata": {
    "colab": {
     "base_uri": "https://localhost:8080/"
    },
    "executionInfo": {
     "elapsed": 3,
     "status": "ok",
     "timestamp": 1663001651713,
     "user": {
      "displayName": "Aakash N S",
      "userId": "03254185060287524023"
     },
     "user_tz": -330
    },
    "id": "assisted-brisbane",
    "outputId": "bcd96679-9a2b-4b7a-dd4b-72b0506a44b3"
   },
   "outputs": [
    {
     "data": {
      "text/plain": [
       "MinTemp          0\n",
       "MaxTemp          0\n",
       "Rainfall         0\n",
       "Evaporation      0\n",
       "Sunshine         0\n",
       "WindGustSpeed    0\n",
       "WindSpeed9am     0\n",
       "WindSpeed3pm     0\n",
       "Humidity9am      0\n",
       "Humidity3pm      0\n",
       "Pressure9am      0\n",
       "Pressure3pm      0\n",
       "Cloud9am         0\n",
       "Cloud3pm         0\n",
       "Temp9am          0\n",
       "Temp3pm          0\n",
       "dtype: int64"
      ]
     },
     "execution_count": 36,
     "metadata": {},
     "output_type": "execute_result"
    }
   ],
   "source": [
    "test_inputs[numeric_cols].isna().sum()"
   ]
  },
  {
   "cell_type": "markdown",
   "id": "incomplete-librarian",
   "metadata": {
    "id": "incomplete-librarian"
   },
   "source": [
    "> **EXERCISE**: Try a different [imputation strategy](https://scikit-learn.org/stable/modules/impute.html#impute) and observe how it affects the results."
   ]
  },
  {
   "cell_type": "markdown",
   "id": "concerned-sight",
   "metadata": {
    "id": "concerned-sight"
   },
   "source": [
    "### Scaling Numeric Features"
   ]
  },
  {
   "cell_type": "code",
   "execution_count": 37,
   "id": "sonic-conclusion",
   "metadata": {
    "executionInfo": {
     "elapsed": 383,
     "status": "ok",
     "timestamp": 1663001653864,
     "user": {
      "displayName": "Aakash N S",
      "userId": "03254185060287524023"
     },
     "user_tz": -330
    },
    "id": "sonic-conclusion"
   },
   "outputs": [],
   "source": [
    "from sklearn.preprocessing import MinMaxScaler"
   ]
  },
  {
   "cell_type": "code",
   "execution_count": 38,
   "id": "premium-brother",
   "metadata": {
    "executionInfo": {
     "elapsed": 2,
     "status": "ok",
     "timestamp": 1663001655691,
     "user": {
      "displayName": "Aakash N S",
      "userId": "03254185060287524023"
     },
     "user_tz": -330
    },
    "id": "premium-brother"
   },
   "outputs": [],
   "source": [
    "scaler = MinMaxScaler().fit(raw_df[numeric_cols])"
   ]
  },
  {
   "cell_type": "code",
   "execution_count": 39,
   "id": "brief-raising",
   "metadata": {
    "executionInfo": {
     "elapsed": 2,
     "status": "ok",
     "timestamp": 1663001657052,
     "user": {
      "displayName": "Aakash N S",
      "userId": "03254185060287524023"
     },
     "user_tz": -330
    },
    "id": "brief-raising"
   },
   "outputs": [],
   "source": [
    "train_inputs[numeric_cols] = scaler.transform(train_inputs[numeric_cols])\n",
    "val_inputs[numeric_cols] = scaler.transform(val_inputs[numeric_cols])\n",
    "test_inputs[numeric_cols] = scaler.transform(test_inputs[numeric_cols])"
   ]
  },
  {
   "cell_type": "code",
   "execution_count": 40,
   "id": "heard-librarian",
   "metadata": {
    "colab": {
     "base_uri": "https://localhost:8080/",
     "height": 112
    },
    "executionInfo": {
     "elapsed": 4,
     "status": "ok",
     "timestamp": 1663001657552,
     "user": {
      "displayName": "Aakash N S",
      "userId": "03254185060287524023"
     },
     "user_tz": -330
    },
    "id": "heard-librarian",
    "outputId": "f81277bd-d2d3-4efe-bfe5-bb390eb700e9"
   },
   "outputs": [
    {
     "data": {
      "text/html": [
       "<div>\n",
       "<style scoped>\n",
       "    .dataframe tbody tr th:only-of-type {\n",
       "        vertical-align: middle;\n",
       "    }\n",
       "\n",
       "    .dataframe tbody tr th {\n",
       "        vertical-align: top;\n",
       "    }\n",
       "\n",
       "    .dataframe thead th {\n",
       "        text-align: right;\n",
       "    }\n",
       "</style>\n",
       "<table border=\"1\" class=\"dataframe\">\n",
       "  <thead>\n",
       "    <tr style=\"text-align: right;\">\n",
       "      <th></th>\n",
       "      <th>MinTemp</th>\n",
       "      <th>MaxTemp</th>\n",
       "      <th>Rainfall</th>\n",
       "      <th>Evaporation</th>\n",
       "      <th>Sunshine</th>\n",
       "      <th>WindGustSpeed</th>\n",
       "      <th>WindSpeed9am</th>\n",
       "      <th>WindSpeed3pm</th>\n",
       "      <th>Humidity9am</th>\n",
       "      <th>Humidity3pm</th>\n",
       "      <th>Pressure9am</th>\n",
       "      <th>Pressure3pm</th>\n",
       "      <th>Cloud9am</th>\n",
       "      <th>Cloud3pm</th>\n",
       "      <th>Temp9am</th>\n",
       "      <th>Temp3pm</th>\n",
       "    </tr>\n",
       "  </thead>\n",
       "  <tbody>\n",
       "    <tr>\n",
       "      <th>min</th>\n",
       "      <td>0.007075</td>\n",
       "      <td>0.030246</td>\n",
       "      <td>0.000000</td>\n",
       "      <td>0.000000</td>\n",
       "      <td>0.0</td>\n",
       "      <td>0.007752</td>\n",
       "      <td>0.000000</td>\n",
       "      <td>0.000000</td>\n",
       "      <td>0.04</td>\n",
       "      <td>0.0</td>\n",
       "      <td>0.125620</td>\n",
       "      <td>0.0816</td>\n",
       "      <td>0.000000</td>\n",
       "      <td>0.000000</td>\n",
       "      <td>0.021097</td>\n",
       "      <td>0.026871</td>\n",
       "    </tr>\n",
       "    <tr>\n",
       "      <th>max</th>\n",
       "      <td>0.952830</td>\n",
       "      <td>0.948960</td>\n",
       "      <td>0.666307</td>\n",
       "      <td>0.485517</td>\n",
       "      <td>1.0</td>\n",
       "      <td>1.000000</td>\n",
       "      <td>0.669231</td>\n",
       "      <td>0.850575</td>\n",
       "      <td>1.00</td>\n",
       "      <td>1.0</td>\n",
       "      <td>0.971901</td>\n",
       "      <td>0.9632</td>\n",
       "      <td>0.888889</td>\n",
       "      <td>0.888889</td>\n",
       "      <td>0.943038</td>\n",
       "      <td>0.925144</td>\n",
       "    </tr>\n",
       "  </tbody>\n",
       "</table>\n",
       "</div>"
      ],
      "text/plain": [
       "      MinTemp   MaxTemp  Rainfall  Evaporation  Sunshine  WindGustSpeed  \\\n",
       "min  0.007075  0.030246  0.000000     0.000000       0.0       0.007752   \n",
       "max  0.952830  0.948960  0.666307     0.485517       1.0       1.000000   \n",
       "\n",
       "     WindSpeed9am  WindSpeed3pm  Humidity9am  Humidity3pm  Pressure9am  \\\n",
       "min      0.000000      0.000000         0.04          0.0     0.125620   \n",
       "max      0.669231      0.850575         1.00          1.0     0.971901   \n",
       "\n",
       "     Pressure3pm  Cloud9am  Cloud3pm   Temp9am   Temp3pm  \n",
       "min       0.0816  0.000000  0.000000  0.021097  0.026871  \n",
       "max       0.9632  0.888889  0.888889  0.943038  0.925144  "
      ]
     },
     "execution_count": 40,
     "metadata": {},
     "output_type": "execute_result"
    }
   ],
   "source": [
    "val_inputs.describe().loc[['min', 'max']]"
   ]
  },
  {
   "cell_type": "markdown",
   "id": "opened-membership",
   "metadata": {
    "id": "opened-membership"
   },
   "source": [
    "> **EXERCISE**: Try a different [scaling strategy](https://scikit-learn.org/stable/modules/preprocessing.html#standardization-or-mean-removal-and-variance-scaling) and observe how it affects the results."
   ]
  },
  {
   "cell_type": "code",
   "execution_count": null,
   "id": "sublime-louisville",
   "metadata": {
    "executionInfo": {
     "elapsed": 2,
     "status": "ok",
     "timestamp": 1663001659525,
     "user": {
      "displayName": "Aakash N S",
      "userId": "03254185060287524023"
     },
     "user_tz": -330
    },
    "id": "sublime-louisville"
   },
   "outputs": [],
   "source": []
  },
  {
   "cell_type": "markdown",
   "id": "complicated-engineering",
   "metadata": {
    "id": "complicated-engineering"
   },
   "source": [
    "### Encoding Categorical Data"
   ]
  },
  {
   "cell_type": "code",
   "execution_count": 41,
   "id": "extra-gauge",
   "metadata": {
    "executionInfo": {
     "elapsed": 3,
     "status": "ok",
     "timestamp": 1663001661646,
     "user": {
      "displayName": "Aakash N S",
      "userId": "03254185060287524023"
     },
     "user_tz": -330
    },
    "id": "extra-gauge"
   },
   "outputs": [],
   "source": [
    "from sklearn.preprocessing import OneHotEncoder"
   ]
  },
  {
   "cell_type": "code",
   "execution_count": 42,
   "id": "51e44c06",
   "metadata": {},
   "outputs": [],
   "source": [
    "?OneHotEncoder"
   ]
  },
  {
   "cell_type": "code",
   "execution_count": 43,
   "id": "armed-nursery",
   "metadata": {
    "executionInfo": {
     "elapsed": 2,
     "status": "ok",
     "timestamp": 1663001662767,
     "user": {
      "displayName": "Aakash N S",
      "userId": "03254185060287524023"
     },
     "user_tz": -330
    },
    "id": "armed-nursery"
   },
   "outputs": [
    {
     "name": "stderr",
     "output_type": "stream",
     "text": [
      "C:\\Users\\Mohit Bhilwara\\AppData\\Local\\Programs\\Python\\Python310\\lib\\site-packages\\sklearn\\preprocessing\\_encoders.py:808: FutureWarning: `sparse` was renamed to `sparse_output` in version 1.2 and will be removed in 1.4. `sparse_output` is ignored unless you leave `sparse` to its default value.\n",
      "  warnings.warn(\n"
     ]
    }
   ],
   "source": [
    "encoder = OneHotEncoder(sparse=False, handle_unknown='ignore').fit(raw_df[categorical_cols])"
   ]
  },
  {
   "cell_type": "code",
   "execution_count": 44,
   "id": "balanced-gamma",
   "metadata": {
    "colab": {
     "base_uri": "https://localhost:8080/"
    },
    "executionInfo": {
     "elapsed": 2,
     "status": "ok",
     "timestamp": 1663001663167,
     "user": {
      "displayName": "Aakash N S",
      "userId": "03254185060287524023"
     },
     "user_tz": -330
    },
    "id": "balanced-gamma",
    "outputId": "e9c22c42-60f0-4e02-f0ab-62af559e9f0c"
   },
   "outputs": [
    {
     "ename": "AttributeError",
     "evalue": "'OneHotEncoder' object has no attribute 'get_feature_names'",
     "output_type": "error",
     "traceback": [
      "\u001b[1;31m---------------------------------------------------------------------------\u001b[0m",
      "\u001b[1;31mAttributeError\u001b[0m                            Traceback (most recent call last)",
      "Input \u001b[1;32mIn [44]\u001b[0m, in \u001b[0;36m<cell line: 1>\u001b[1;34m()\u001b[0m\n\u001b[1;32m----> 1\u001b[0m encoded_cols \u001b[38;5;241m=\u001b[39m \u001b[38;5;28mlist\u001b[39m(\u001b[43mencoder\u001b[49m\u001b[38;5;241;43m.\u001b[39;49m\u001b[43mget_feature_names\u001b[49m(categorical_cols))\n",
      "\u001b[1;31mAttributeError\u001b[0m: 'OneHotEncoder' object has no attribute 'get_feature_names'"
     ]
    }
   ],
   "source": [
    "encoded_cols = list(encoder.get_feature_names(categorical_cols))"
   ]
  },
  {
   "cell_type": "code",
   "execution_count": null,
   "id": "rapid-circulation",
   "metadata": {
    "colab": {
     "base_uri": "https://localhost:8080/"
    },
    "executionInfo": {
     "elapsed": 3,
     "status": "ok",
     "timestamp": 1663001664553,
     "user": {
      "displayName": "Aakash N S",
      "userId": "03254185060287524023"
     },
     "user_tz": -330
    },
    "id": "rapid-circulation",
    "outputId": "6b6e7973-ab42-4508-bbef-c94394259461"
   },
   "outputs": [],
   "source": [
    "train_inputs[encoded_cols] = encoder.transform(train_inputs[categorical_cols])\n",
    "val_inputs[encoded_cols] = encoder.transform(val_inputs[categorical_cols])\n",
    "test_inputs[encoded_cols] = encoder.transform(test_inputs[categorical_cols])"
   ]
  },
  {
   "cell_type": "code",
   "execution_count": null,
   "id": "62993529",
   "metadata": {},
   "outputs": [],
   "source": []
  },
  {
   "cell_type": "code",
   "execution_count": null,
   "id": "overhead-functionality",
   "metadata": {
    "colab": {
     "base_uri": "https://localhost:8080/",
     "height": 488
    },
    "executionInfo": {
     "elapsed": 781,
     "status": "ok",
     "timestamp": 1663001667106,
     "user": {
      "displayName": "Aakash N S",
      "userId": "03254185060287524023"
     },
     "user_tz": -330
    },
    "id": "overhead-functionality",
    "outputId": "76394da4-61bf-4ff8-d372-8e8c3335229a"
   },
   "outputs": [],
   "source": [
    "test_inputs"
   ]
  },
  {
   "cell_type": "markdown",
   "id": "swiss-emergency",
   "metadata": {
    "id": "swiss-emergency"
   },
   "source": [
    "> **EXERCISE**: Try a different [encoding strategy](https://scikit-learn.org/stable/modules/preprocessing.html#encoding-categorical-features) and observe how it affects the results."
   ]
  },
  {
   "cell_type": "markdown",
   "id": "sexual-actor",
   "metadata": {
    "id": "sexual-actor"
   },
   "source": [
    "As a final step, let's drop the textual categorical columns, so that we're left with just numeric data."
   ]
  },
  {
   "cell_type": "code",
   "execution_count": null,
   "id": "floating-cathedral",
   "metadata": {
    "executionInfo": {
     "elapsed": 414,
     "status": "ok",
     "timestamp": 1663001676406,
     "user": {
      "displayName": "Aakash N S",
      "userId": "03254185060287524023"
     },
     "user_tz": -330
    },
    "id": "floating-cathedral"
   },
   "outputs": [],
   "source": [
    "X_train = train_inputs[numeric_cols + encoded_cols]\n",
    "X_val = val_inputs[numeric_cols + encoded_cols]\n",
    "X_test = test_inputs[numeric_cols + encoded_cols]"
   ]
  },
  {
   "cell_type": "code",
   "execution_count": null,
   "id": "standard-brooklyn",
   "metadata": {
    "colab": {
     "base_uri": "https://localhost:8080/",
     "height": 488
    },
    "executionInfo": {
     "elapsed": 5,
     "status": "ok",
     "timestamp": 1663001678004,
     "user": {
      "displayName": "Aakash N S",
      "userId": "03254185060287524023"
     },
     "user_tz": -330
    },
    "id": "standard-brooklyn",
    "outputId": "4fd2bb33-1f88-40ef-8d04-9a0c6d1d2367"
   },
   "outputs": [],
   "source": [
    "X_test"
   ]
  },
  {
   "cell_type": "markdown",
   "id": "bound-balance",
   "metadata": {
    "id": "bound-balance"
   },
   "source": [
    "Let's save our work before continuing."
   ]
  },
  {
   "cell_type": "code",
   "execution_count": null,
   "id": "informed-studio",
   "metadata": {
    "colab": {
     "base_uri": "https://localhost:8080/",
     "height": 89
    },
    "executionInfo": {
     "elapsed": 4287,
     "status": "ok",
     "timestamp": 1663001682910,
     "user": {
      "displayName": "Aakash N S",
      "userId": "03254185060287524023"
     },
     "user_tz": -330
    },
    "id": "informed-studio",
    "outputId": "1d11ff15-0509-48e8-849f-0b46c2bdcfb1"
   },
   "outputs": [],
   "source": [
    "# jovian.commit()"
   ]
  },
  {
   "cell_type": "markdown",
   "id": "handy-robinson",
   "metadata": {
    "id": "handy-robinson"
   },
   "source": [
    "## Training and Visualizing Decision Trees\n",
    "\n",
    "A decision tree in general parlance represents a hierarchical series of binary decisions:\n",
    "\n",
    "<img src=\"https://i.imgur.com/qSH4lqz.png\" width=\"480\">\n",
    "\n",
    "A decision tree in machine learning works in exactly the same way, and except that we let the computer figure out the optimal structure & hierarchy of decisions, instead of coming up with criteria manually."
   ]
  },
  {
   "cell_type": "markdown",
   "id": "exempt-retail",
   "metadata": {
    "id": "exempt-retail"
   },
   "source": [
    "### Training\n",
    "\n",
    "We can use `DecisionTreeClassifier` from `sklearn.tree` to train a decision tree."
   ]
  },
  {
   "cell_type": "code",
   "execution_count": null,
   "id": "dress-reviewer",
   "metadata": {
    "executionInfo": {
     "elapsed": 5,
     "status": "ok",
     "timestamp": 1663001682910,
     "user": {
      "displayName": "Aakash N S",
      "userId": "03254185060287524023"
     },
     "user_tz": -330
    },
    "id": "dress-reviewer"
   },
   "outputs": [],
   "source": [
    "from sklearn.tree import DecisionTreeClassifier"
   ]
  },
  {
   "cell_type": "code",
   "execution_count": null,
   "id": "activated-designer",
   "metadata": {
    "executionInfo": {
     "elapsed": 1,
     "status": "ok",
     "timestamp": 1663001684028,
     "user": {
      "displayName": "Aakash N S",
      "userId": "03254185060287524023"
     },
     "user_tz": -330
    },
    "id": "activated-designer"
   },
   "outputs": [],
   "source": [
    "model = DecisionTreeClassifier(random_state=42)"
   ]
  },
  {
   "cell_type": "code",
   "execution_count": null,
   "id": "superb-fight",
   "metadata": {
    "colab": {
     "base_uri": "https://localhost:8080/"
    },
    "executionInfo": {
     "elapsed": 3496,
     "status": "ok",
     "timestamp": 1663001688131,
     "user": {
      "displayName": "Aakash N S",
      "userId": "03254185060287524023"
     },
     "user_tz": -330
    },
    "id": "superb-fight",
    "outputId": "a1bf6b73-e226-4f45-b70f-35a5b597369f"
   },
   "outputs": [],
   "source": [
    "%%time\n",
    "model.fit(X_train, train_targets)"
   ]
  },
  {
   "cell_type": "markdown",
   "id": "available-wheat",
   "metadata": {
    "id": "available-wheat"
   },
   "source": [
    "An optimal decision tree has now been created using the training data."
   ]
  },
  {
   "cell_type": "markdown",
   "id": "industrial-valuation",
   "metadata": {
    "id": "industrial-valuation"
   },
   "source": [
    "### Evaluation\n",
    "\n",
    "Let's evaluate the decision tree using the accuracy score."
   ]
  },
  {
   "cell_type": "code",
   "execution_count": null,
   "id": "ongoing-broadway",
   "metadata": {
    "executionInfo": {
     "elapsed": 4,
     "status": "ok",
     "timestamp": 1663001688132,
     "user": {
      "displayName": "Aakash N S",
      "userId": "03254185060287524023"
     },
     "user_tz": -330
    },
    "id": "ongoing-broadway"
   },
   "outputs": [],
   "source": [
    "from sklearn.metrics import accuracy_score, confusion_matrix"
   ]
  },
  {
   "cell_type": "code",
   "execution_count": null,
   "id": "religious-personality",
   "metadata": {
    "executionInfo": {
     "elapsed": 4,
     "status": "ok",
     "timestamp": 1663001688132,
     "user": {
      "displayName": "Aakash N S",
      "userId": "03254185060287524023"
     },
     "user_tz": -330
    },
    "id": "religious-personality"
   },
   "outputs": [],
   "source": [
    "train_preds = model.predict(X_train)"
   ]
  },
  {
   "cell_type": "code",
   "execution_count": null,
   "id": "invisible-medicaid",
   "metadata": {
    "colab": {
     "base_uri": "https://localhost:8080/"
    },
    "executionInfo": {
     "elapsed": 2,
     "status": "ok",
     "timestamp": 1663001688682,
     "user": {
      "displayName": "Aakash N S",
      "userId": "03254185060287524023"
     },
     "user_tz": -330
    },
    "id": "invisible-medicaid",
    "outputId": "f5433dd4-78d8-4019-fa46-281164439b4c"
   },
   "outputs": [],
   "source": [
    "train_preds"
   ]
  },
  {
   "cell_type": "code",
   "execution_count": null,
   "id": "demographic-guyana",
   "metadata": {
    "colab": {
     "base_uri": "https://localhost:8080/"
    },
    "executionInfo": {
     "elapsed": 2,
     "status": "ok",
     "timestamp": 1663001690018,
     "user": {
      "displayName": "Aakash N S",
      "userId": "03254185060287524023"
     },
     "user_tz": -330
    },
    "id": "demographic-guyana",
    "outputId": "1a7bc8af-90e0-43ae-d343-6e77af3b1193"
   },
   "outputs": [],
   "source": [
    "pd.value_counts(train_preds)"
   ]
  },
  {
   "cell_type": "markdown",
   "id": "naked-luxembourg",
   "metadata": {
    "id": "naked-luxembourg"
   },
   "source": [
    "The decision tree also returns probabilities for each prediction."
   ]
  },
  {
   "cell_type": "code",
   "execution_count": null,
   "id": "equipped-violin",
   "metadata": {
    "executionInfo": {
     "elapsed": 2,
     "status": "ok",
     "timestamp": 1663001692144,
     "user": {
      "displayName": "Aakash N S",
      "userId": "03254185060287524023"
     },
     "user_tz": -330
    },
    "id": "equipped-violin"
   },
   "outputs": [],
   "source": [
    "train_probs = model.predict_proba(X_train)"
   ]
  },
  {
   "cell_type": "code",
   "execution_count": null,
   "id": "involved-affair",
   "metadata": {
    "colab": {
     "base_uri": "https://localhost:8080/"
    },
    "executionInfo": {
     "elapsed": 2,
     "status": "ok",
     "timestamp": 1663001692489,
     "user": {
      "displayName": "Aakash N S",
      "userId": "03254185060287524023"
     },
     "user_tz": -330
    },
    "id": "involved-affair",
    "outputId": "ede91072-0b3a-4e3a-ac10-17cb3f972aa5"
   },
   "outputs": [],
   "source": [
    "train_probs"
   ]
  },
  {
   "cell_type": "markdown",
   "id": "handled-finnish",
   "metadata": {
    "id": "handled-finnish"
   },
   "source": [
    "Seems like the decision tree is quite confident about its predictions.\n",
    "\n",
    "Let's check the accuracy of its predictions."
   ]
  },
  {
   "cell_type": "code",
   "execution_count": null,
   "id": "psychological-wellington",
   "metadata": {
    "colab": {
     "base_uri": "https://localhost:8080/"
    },
    "executionInfo": {
     "elapsed": 333,
     "status": "ok",
     "timestamp": 1663001694892,
     "user": {
      "displayName": "Aakash N S",
      "userId": "03254185060287524023"
     },
     "user_tz": -330
    },
    "id": "psychological-wellington",
    "outputId": "7ae44bc0-4a2c-44a1-ba6e-7f7d5aea7d4c"
   },
   "outputs": [],
   "source": [
    "accuracy_score(train_targets, train_preds)"
   ]
  },
  {
   "cell_type": "markdown",
   "id": "certified-employee",
   "metadata": {
    "id": "certified-employee"
   },
   "source": [
    "The training set accuracy is close to 100%! But we can't rely solely on the training set accuracy, we must evaluate the model on the validation set too. \n",
    "\n",
    "We can make predictions and compute accuracy in one step using `model.score`"
   ]
  },
  {
   "cell_type": "code",
   "execution_count": null,
   "id": "logical-values",
   "metadata": {
    "colab": {
     "base_uri": "https://localhost:8080/"
    },
    "executionInfo": {
     "elapsed": 2,
     "status": "ok",
     "timestamp": 1663001696666,
     "user": {
      "displayName": "Aakash N S",
      "userId": "03254185060287524023"
     },
     "user_tz": -330
    },
    "id": "logical-values",
    "outputId": "ef9db1e3-5770-44f6-d1e7-132d76d58b18"
   },
   "outputs": [],
   "source": [
    "model.score(X_val, val_targets)"
   ]
  },
  {
   "cell_type": "markdown",
   "id": "ruled-today",
   "metadata": {
    "id": "ruled-today"
   },
   "source": [
    "Although the training accuracy is 100%, the accuracy on the validation set is just about 79%, which is only marginally better then always predicting \"No\". "
   ]
  },
  {
   "cell_type": "code",
   "execution_count": null,
   "id": "original-national",
   "metadata": {
    "colab": {
     "base_uri": "https://localhost:8080/"
    },
    "executionInfo": {
     "elapsed": 3,
     "status": "ok",
     "timestamp": 1663001697964,
     "user": {
      "displayName": "Aakash N S",
      "userId": "03254185060287524023"
     },
     "user_tz": -330
    },
    "id": "original-national",
    "outputId": "d30a0d59-6b82-4cbf-f1d4-530df6825a8d"
   },
   "outputs": [],
   "source": [
    "val_targets.value_counts() / len(val_targets)"
   ]
  },
  {
   "cell_type": "markdown",
   "id": "bibliographic-divide",
   "metadata": {
    "id": "bibliographic-divide"
   },
   "source": [
    "It appears that the model has learned the training examples perfect, and doesn't generalize well to previously unseen examples. This phenomenon is called \"overfitting\", and reducing overfitting is one of the most important parts of any machine learning project."
   ]
  },
  {
   "cell_type": "markdown",
   "id": "promotional-third",
   "metadata": {
    "id": "promotional-third"
   },
   "source": [
    "### Visualization\n",
    "\n",
    "We can visualize the decision tree _learned_ from the training data."
   ]
  },
  {
   "cell_type": "code",
   "execution_count": null,
   "id": "universal-catalog",
   "metadata": {
    "executionInfo": {
     "elapsed": 353,
     "status": "ok",
     "timestamp": 1663001702328,
     "user": {
      "displayName": "Aakash N S",
      "userId": "03254185060287524023"
     },
     "user_tz": -330
    },
    "id": "universal-catalog"
   },
   "outputs": [],
   "source": [
    "from sklearn.tree import plot_tree, export_text"
   ]
  },
  {
   "cell_type": "code",
   "execution_count": null,
   "id": "existing-bangkok",
   "metadata": {
    "colab": {
     "base_uri": "https://localhost:8080/",
     "height": 428
    },
    "executionInfo": {
     "elapsed": 3101,
     "status": "ok",
     "timestamp": 1663001707842,
     "user": {
      "displayName": "Aakash N S",
      "userId": "03254185060287524023"
     },
     "user_tz": -330
    },
    "id": "existing-bangkok",
    "outputId": "19ecb63a-9544-4ab1-f2f6-fd6294f1bf56"
   },
   "outputs": [],
   "source": [
    "plt.figure(figsize=(80,20))\n",
    "plot_tree(model, feature_names=X_train.columns, max_depth=2, filled=True);"
   ]
  },
  {
   "cell_type": "markdown",
   "id": "external-wisconsin",
   "metadata": {
    "id": "external-wisconsin"
   },
   "source": [
    "Can you see how the model classifies a given input as a series of decisions? The tree is truncated here, but following any path from the root node down to a leaf will result in \"Yes\" or \"No\". Do you see how a decision tree differs from a logistic regression model?\n",
    "\n",
    "\n",
    "**How a Decision Tree is Created**\n",
    "\n",
    "Note the `gini` value in each box. This is the loss function used by the decision tree to decide which column should be used for splitting the data, and at what point the column should be split. A lower Gini index indicates a better split. A perfect split (only one class on each side) has a Gini index of 0. \n",
    "\n",
    "For a mathematical discussion of the Gini Index, watch this video: https://www.youtube.com/watch?v=-W0DnxQK1Eo . It has the following formula:\n",
    "\n",
    "<img src=\"https://i.imgur.com/CSC0gAo.png\" width=\"240\">\n",
    "\n",
    "Conceptually speaking, while training the models evaluates all possible splits across all possible columns and picks the best one. Then, it recursively performs an optimal split for the two portions. In practice, however, it's very inefficient to check all possible splits, so the model uses a heuristic (predefined strategy) combined with some randomization.\n",
    "\n",
    "The iterative approach of the machine learning workflow in the case of a decision tree involves growing the tree layer-by-layer:\n",
    "\n",
    "<img src=\"https://www.deepnetts.com/blog/wp-content/uploads/2019/02/SupervisedLearning.png\" width=\"480\">\n",
    "\n",
    "\n",
    "Let's check the depth of the tree that was created."
   ]
  },
  {
   "cell_type": "code",
   "execution_count": null,
   "id": "bronze-split",
   "metadata": {
    "colab": {
     "base_uri": "https://localhost:8080/"
    },
    "executionInfo": {
     "elapsed": 8,
     "status": "ok",
     "timestamp": 1663001707843,
     "user": {
      "displayName": "Aakash N S",
      "userId": "03254185060287524023"
     },
     "user_tz": -330
    },
    "id": "bronze-split",
    "outputId": "cafba997-2fbb-4170-9a6a-21af71f33e8c"
   },
   "outputs": [],
   "source": [
    "model.tree_.max_depth"
   ]
  },
  {
   "cell_type": "markdown",
   "id": "sharing-provision",
   "metadata": {
    "id": "sharing-provision"
   },
   "source": [
    "We can also display the tree as text, which can be easier to follow for deeper trees."
   ]
  },
  {
   "cell_type": "code",
   "execution_count": null,
   "id": "congressional-circle",
   "metadata": {
    "colab": {
     "base_uri": "https://localhost:8080/"
    },
    "executionInfo": {
     "elapsed": 3,
     "status": "ok",
     "timestamp": 1663001709423,
     "user": {
      "displayName": "Aakash N S",
      "userId": "03254185060287524023"
     },
     "user_tz": -330
    },
    "id": "congressional-circle",
    "outputId": "440a266a-9f87-4a52-c392-7fab7dac9168",
    "scrolled": false
   },
   "outputs": [],
   "source": [
    "tree_text = export_text(model, max_depth=10, feature_names=list(X_train.columns))\n",
    "print(tree_text[:5000])"
   ]
  },
  {
   "cell_type": "markdown",
   "id": "opponent-butler",
   "metadata": {
    "id": "opponent-butler"
   },
   "source": [
    "> **EXERCISE**: Based on the above discussion, can you explain why the training accuracy is 100% whereas the validation accuracy is lower?"
   ]
  },
  {
   "cell_type": "code",
   "execution_count": null,
   "id": "vocal-arthur",
   "metadata": {
    "executionInfo": {
     "elapsed": 519,
     "status": "ok",
     "timestamp": 1663001716698,
     "user": {
      "displayName": "Aakash N S",
      "userId": "03254185060287524023"
     },
     "user_tz": -330
    },
    "id": "vocal-arthur"
   },
   "outputs": [],
   "source": []
  },
  {
   "cell_type": "markdown",
   "id": "talented-watson",
   "metadata": {
    "id": "talented-watson"
   },
   "source": [
    "### Feature Importance\n",
    "\n",
    "Based on the gini index computations, a decision tree assigns an \"importance\" value to each feature. These values can be used to interpret the results given by a decision tree."
   ]
  },
  {
   "cell_type": "code",
   "execution_count": null,
   "id": "ambient-commons",
   "metadata": {
    "colab": {
     "base_uri": "https://localhost:8080/"
    },
    "executionInfo": {
     "elapsed": 2,
     "status": "ok",
     "timestamp": 1663001717932,
     "user": {
      "displayName": "Aakash N S",
      "userId": "03254185060287524023"
     },
     "user_tz": -330
    },
    "id": "ambient-commons",
    "outputId": "17253dc0-804f-45f8-83eb-9aed44510140"
   },
   "outputs": [],
   "source": [
    "model.feature_importances_"
   ]
  },
  {
   "cell_type": "markdown",
   "id": "fatal-frost",
   "metadata": {
    "id": "fatal-frost"
   },
   "source": [
    "Let's turn this into a dataframe and visualize the most important features."
   ]
  },
  {
   "cell_type": "code",
   "execution_count": null,
   "id": "meaning-stake",
   "metadata": {
    "executionInfo": {
     "elapsed": 2,
     "status": "ok",
     "timestamp": 1663001719959,
     "user": {
      "displayName": "Aakash N S",
      "userId": "03254185060287524023"
     },
     "user_tz": -330
    },
    "id": "meaning-stake"
   },
   "outputs": [],
   "source": [
    "importance_df = pd.DataFrame({\n",
    "    'feature': X_train.columns,\n",
    "    'importance': model.feature_importances_\n",
    "}).sort_values('importance', ascending=False)"
   ]
  },
  {
   "cell_type": "code",
   "execution_count": null,
   "id": "unique-symphony",
   "metadata": {
    "colab": {
     "base_uri": "https://localhost:8080/",
     "height": 363
    },
    "executionInfo": {
     "elapsed": 4,
     "status": "ok",
     "timestamp": 1663001721894,
     "user": {
      "displayName": "Aakash N S",
      "userId": "03254185060287524023"
     },
     "user_tz": -330
    },
    "id": "unique-symphony",
    "outputId": "d4249270-049e-444b-b3d1-8318a3faf7fc"
   },
   "outputs": [],
   "source": [
    "importance_df.head(10)"
   ]
  },
  {
   "cell_type": "code",
   "execution_count": null,
   "id": "fatty-biotechnology",
   "metadata": {
    "colab": {
     "base_uri": "https://localhost:8080/",
     "height": 416
    },
    "executionInfo": {
     "elapsed": 729,
     "status": "ok",
     "timestamp": 1663001722956,
     "user": {
      "displayName": "Aakash N S",
      "userId": "03254185060287524023"
     },
     "user_tz": -330
    },
    "id": "fatty-biotechnology",
    "outputId": "8ca31aea-4569-4ada-af7e-616f42e5abfb"
   },
   "outputs": [],
   "source": [
    "plt.title('Feature Importance')\n",
    "sns.barplot(data=importance_df.head(10), x='importance', y='feature');"
   ]
  },
  {
   "cell_type": "markdown",
   "id": "scheduled-insurance",
   "metadata": {
    "id": "scheduled-insurance"
   },
   "source": [
    "Let's save our work before continuing."
   ]
  },
  {
   "cell_type": "code",
   "execution_count": null,
   "id": "instrumental-drive",
   "metadata": {
    "colab": {
     "base_uri": "https://localhost:8080/",
     "height": 89
    },
    "executionInfo": {
     "elapsed": 3134,
     "status": "ok",
     "timestamp": 1663001727587,
     "user": {
      "displayName": "Aakash N S",
      "userId": "03254185060287524023"
     },
     "user_tz": -330
    },
    "id": "instrumental-drive",
    "outputId": "871592bc-d47d-4cfe-aeb1-45033caa7a22"
   },
   "outputs": [],
   "source": [
    "# jovian.commit()"
   ]
  },
  {
   "cell_type": "markdown",
   "id": "composed-airfare",
   "metadata": {
    "id": "composed-airfare"
   },
   "source": [
    "## Hyperparameter Tuning and Overfitting\n",
    "\n",
    "As we saw in the previous section, our decision tree classifier memorized all training examples, leading to a 100% training accuracy, while the validation accuracy was only marginally better than a dumb baseline model. This phenomenon is called overfitting, and in this section, we'll look at some strategies for reducing overfitting. The process of reducing overfitting is known as _regularlization_.\n",
    "\n",
    "\n",
    "The `DecisionTreeClassifier` accepts several arguments, some of which can be modified to reduce overfitting."
   ]
  },
  {
   "cell_type": "code",
   "execution_count": null,
   "id": "distinguished-trainer",
   "metadata": {
    "executionInfo": {
     "elapsed": 345,
     "status": "ok",
     "timestamp": 1663001743744,
     "user": {
      "displayName": "Aakash N S",
      "userId": "03254185060287524023"
     },
     "user_tz": -330
    },
    "id": "distinguished-trainer"
   },
   "outputs": [],
   "source": [
    "?DecisionTreeClassifier"
   ]
  },
  {
   "cell_type": "markdown",
   "id": "derived-attribute",
   "metadata": {
    "id": "derived-attribute"
   },
   "source": [
    "These arguments are called hyperparameters because they must be configured manually (as opposed to the parameters within the model which are _learned_ from the data. We'll explore a couple of hyperparameters:\n",
    "\n",
    "- `max_depth`\n",
    "- `max_leaf_nodes`"
   ]
  },
  {
   "cell_type": "markdown",
   "id": "solved-cocktail",
   "metadata": {
    "id": "solved-cocktail"
   },
   "source": [
    "### `max_depth`\n",
    "\n",
    "By reducing the maximum depth of the decision tree, we can prevent the tree from memorizing all training examples, which may lead to better generalization"
   ]
  },
  {
   "cell_type": "code",
   "execution_count": null,
   "id": "specialized-appearance",
   "metadata": {
    "executionInfo": {
     "elapsed": 359,
     "status": "ok",
     "timestamp": 1663001760104,
     "user": {
      "displayName": "Aakash N S",
      "userId": "03254185060287524023"
     },
     "user_tz": -330
    },
    "id": "specialized-appearance"
   },
   "outputs": [],
   "source": [
    "model = DecisionTreeClassifier(max_depth=3, random_state=42)"
   ]
  },
  {
   "cell_type": "code",
   "execution_count": null,
   "id": "professional-consultancy",
   "metadata": {
    "colab": {
     "base_uri": "https://localhost:8080/"
    },
    "executionInfo": {
     "elapsed": 706,
     "status": "ok",
     "timestamp": 1663001762730,
     "user": {
      "displayName": "Aakash N S",
      "userId": "03254185060287524023"
     },
     "user_tz": -330
    },
    "id": "professional-consultancy",
    "outputId": "106905ea-86f9-43f3-c21a-ac0160b3e403"
   },
   "outputs": [],
   "source": [
    "model.fit(X_train, train_targets)"
   ]
  },
  {
   "cell_type": "markdown",
   "id": "radio-blair",
   "metadata": {
    "id": "radio-blair"
   },
   "source": [
    "We can compute the accuracy of the model on the training and validation sets using `model.score`"
   ]
  },
  {
   "cell_type": "code",
   "execution_count": null,
   "id": "applicable-retirement",
   "metadata": {
    "colab": {
     "base_uri": "https://localhost:8080/"
    },
    "executionInfo": {
     "elapsed": 1071,
     "status": "ok",
     "timestamp": 1663001767579,
     "user": {
      "displayName": "Aakash N S",
      "userId": "03254185060287524023"
     },
     "user_tz": -330
    },
    "id": "applicable-retirement",
    "outputId": "e1ff610c-9d66-4e08-80f8-59e08bd866ea"
   },
   "outputs": [],
   "source": [
    "model.score(X_train, train_targets)"
   ]
  },
  {
   "cell_type": "code",
   "execution_count": null,
   "id": "detected-temperature",
   "metadata": {
    "colab": {
     "base_uri": "https://localhost:8080/"
    },
    "executionInfo": {
     "elapsed": 2,
     "status": "ok",
     "timestamp": 1663001768588,
     "user": {
      "displayName": "Aakash N S",
      "userId": "03254185060287524023"
     },
     "user_tz": -330
    },
    "id": "detected-temperature",
    "outputId": "5fe68319-6036-4664-c29b-627f087d58cb"
   },
   "outputs": [],
   "source": [
    "model.score(X_val, val_targets)"
   ]
  },
  {
   "cell_type": "markdown",
   "id": "delayed-street",
   "metadata": {
    "id": "delayed-street"
   },
   "source": [
    "Great, while the training accuracy of the model has gone down, the validation accuracy of the model has increased significantly."
   ]
  },
  {
   "cell_type": "code",
   "execution_count": null,
   "id": "legendary-commodity",
   "metadata": {
    "colab": {
     "base_uri": "https://localhost:8080/"
    },
    "executionInfo": {
     "elapsed": 601,
     "status": "ok",
     "timestamp": 1663001771520,
     "user": {
      "displayName": "Aakash N S",
      "userId": "03254185060287524023"
     },
     "user_tz": -330
    },
    "id": "legendary-commodity",
    "outputId": "25a462ca-5184-4c44-b97a-63136ba0488e"
   },
   "outputs": [],
   "source": [
    "model.classes_"
   ]
  },
  {
   "cell_type": "code",
   "execution_count": null,
   "id": "accessory-ireland",
   "metadata": {
    "colab": {
     "base_uri": "https://localhost:8080/",
     "height": 428
    },
    "executionInfo": {
     "elapsed": 2558,
     "status": "ok",
     "timestamp": 1663001774860,
     "user": {
      "displayName": "Aakash N S",
      "userId": "03254185060287524023"
     },
     "user_tz": -330
    },
    "id": "accessory-ireland",
    "outputId": "e08fe76f-687f-43a4-97d6-7979aac7ea51"
   },
   "outputs": [],
   "source": [
    "plt.figure(figsize=(80,20))\n",
    "plot_tree(model, feature_names=X_train.columns, filled=True, rounded=True, class_names=model.classes_);"
   ]
  },
  {
   "cell_type": "code",
   "execution_count": null,
   "id": "46fbfcb7",
   "metadata": {},
   "outputs": [],
   "source": []
  },
  {
   "cell_type": "code",
   "execution_count": null,
   "id": "be7a74cb",
   "metadata": {},
   "outputs": [],
   "source": []
  },
  {
   "cell_type": "markdown",
   "id": "accurate-tackle",
   "metadata": {
    "id": "accurate-tackle"
   },
   "source": [
    "> **EXERCISE**: Study the decision tree diagram carefully and understand what each of the terms `gini`, `samples`, `value` and `class` mean."
   ]
  },
  {
   "cell_type": "code",
   "execution_count": null,
   "id": "coral-payment",
   "metadata": {
    "colab": {
     "base_uri": "https://localhost:8080/"
    },
    "executionInfo": {
     "elapsed": 10,
     "status": "ok",
     "timestamp": 1663001774861,
     "user": {
      "displayName": "Aakash N S",
      "userId": "03254185060287524023"
     },
     "user_tz": -330
    },
    "id": "coral-payment",
    "outputId": "411b1749-7959-459b-fb14-4e79bd29e22e"
   },
   "outputs": [],
   "source": [
    "print(export_text(model, feature_names=list(X_train.columns)))"
   ]
  },
  {
   "cell_type": "markdown",
   "id": "suspected-climb",
   "metadata": {
    "id": "suspected-climb"
   },
   "source": [
    "Let's experiment with different depths using a helper function."
   ]
  },
  {
   "cell_type": "code",
   "execution_count": null,
   "id": "tutorial-coating",
   "metadata": {
    "executionInfo": {
     "elapsed": 5,
     "status": "ok",
     "timestamp": 1663001774861,
     "user": {
      "displayName": "Aakash N S",
      "userId": "03254185060287524023"
     },
     "user_tz": -330
    },
    "id": "tutorial-coating"
   },
   "outputs": [],
   "source": [
    "def max_depth_error(md):\n",
    "    model = DecisionTreeClassifier(max_depth=md, random_state=42)\n",
    "    model.fit(X_train, train_targets)\n",
    "    train_acc = 1 - model.score(X_train, train_targets)\n",
    "    val_acc = 1 - model.score(X_val, val_targets)\n",
    "    return {'Max Depth': md, 'Training Error': train_acc, 'Validation Error': val_acc}"
   ]
  },
  {
   "cell_type": "code",
   "execution_count": null,
   "id": "elegant-nothing",
   "metadata": {
    "colab": {
     "base_uri": "https://localhost:8080/"
    },
    "executionInfo": {
     "elapsed": 40562,
     "status": "ok",
     "timestamp": 1663001816000,
     "user": {
      "displayName": "Aakash N S",
      "userId": "03254185060287524023"
     },
     "user_tz": -330
    },
    "id": "elegant-nothing",
    "outputId": "4e6c1675-c7ed-4442-a3d0-1e03890cd43e"
   },
   "outputs": [],
   "source": [
    "%%time\n",
    "errors_df = pd.DataFrame([max_depth_error(md) for md in range(1, 21)])"
   ]
  },
  {
   "cell_type": "code",
   "execution_count": null,
   "id": "answering-climate",
   "metadata": {
    "colab": {
     "base_uri": "https://localhost:8080/",
     "height": 677
    },
    "executionInfo": {
     "elapsed": 24,
     "status": "ok",
     "timestamp": 1663001816000,
     "user": {
      "displayName": "Aakash N S",
      "userId": "03254185060287524023"
     },
     "user_tz": -330
    },
    "id": "answering-climate",
    "outputId": "de0f4e9f-7672-433d-d801-1841dbdbc868"
   },
   "outputs": [],
   "source": [
    "errors_df"
   ]
  },
  {
   "cell_type": "code",
   "execution_count": null,
   "id": "expanded-external",
   "metadata": {
    "colab": {
     "base_uri": "https://localhost:8080/",
     "height": 434
    },
    "executionInfo": {
     "elapsed": 1795,
     "status": "ok",
     "timestamp": 1663001817783,
     "user": {
      "displayName": "Aakash N S",
      "userId": "03254185060287524023"
     },
     "user_tz": -330
    },
    "id": "expanded-external",
    "outputId": "d9f6d278-fba4-483d-e4b3-5aa720893534"
   },
   "outputs": [],
   "source": [
    "plt.figure()\n",
    "sns.lineplot(errors_df['Max Depth'], errors_df['Training Error'])\n",
    "sns.lineplot(errors_df['Max Depth'], errors_df['Validation Error'])\n",
    "plt.title('Training vs. Validation Error')\n",
    "plt.xticks(range(0,21))\n",
    "plt.xlabel('Max. Depth')\n",
    "plt.ylabel('Prediction Error (1 - Accuracy)')\n",
    "plt.legend(['Training', 'Validation'])"
   ]
  },
  {
   "cell_type": "markdown",
   "id": "present-click",
   "metadata": {
    "id": "present-click"
   },
   "source": [
    "This is a common pattern you'll see with all machine learning algorithms:\n",
    "\n",
    "<img src=\"https://i.imgur.com/EJCrSZw.png\" width=\"480\">\n",
    "\n",
    "\n",
    "\n"
   ]
  },
  {
   "cell_type": "markdown",
   "id": "radical-victory",
   "metadata": {
    "id": "radical-victory"
   },
   "source": [
    "You'll often need to tune hyperparameters carefully to find the optimal fit. In the above case, it appears that a maximum depth of 7 results in the lowest validation error."
   ]
  },
  {
   "cell_type": "code",
   "execution_count": null,
   "id": "biblical-tourist",
   "metadata": {
    "colab": {
     "base_uri": "https://localhost:8080/"
    },
    "executionInfo": {
     "elapsed": 9,
     "status": "ok",
     "timestamp": 1663001817783,
     "user": {
      "displayName": "Aakash N S",
      "userId": "03254185060287524023"
     },
     "user_tz": -330
    },
    "id": "biblical-tourist",
    "outputId": "16e6a47e-d518-4e35-ff32-b114fade8116"
   },
   "outputs": [],
   "source": [
    "model = DecisionTreeClassifier(max_depth=7, random_state=42).fit(X_train, train_targets)\n",
    "model.score(X_val, val_targets),model.score(X_train,train_targets)"
   ]
  },
  {
   "cell_type": "markdown",
   "id": "thirty-witness",
   "metadata": {
    "id": "thirty-witness"
   },
   "source": [
    "### `max_leaf_nodes`\n",
    "\n",
    "Another way to control the size of complexity of a decision tree is to limit the number of leaf nodes. This allows branches of the tree to have varying depths. "
   ]
  },
  {
   "cell_type": "code",
   "execution_count": null,
   "id": "patent-durham",
   "metadata": {
    "executionInfo": {
     "elapsed": 5,
     "status": "ok",
     "timestamp": 1663001817783,
     "user": {
      "displayName": "Aakash N S",
      "userId": "03254185060287524023"
     },
     "user_tz": -330
    },
    "id": "patent-durham"
   },
   "outputs": [],
   "source": [
    "model = DecisionTreeClassifier(max_leaf_nodes=128, random_state=42)"
   ]
  },
  {
   "cell_type": "code",
   "execution_count": null,
   "id": "gorgeous-clothing",
   "metadata": {
    "colab": {
     "base_uri": "https://localhost:8080/"
    },
    "executionInfo": {
     "elapsed": 1652,
     "status": "ok",
     "timestamp": 1663001819431,
     "user": {
      "displayName": "Aakash N S",
      "userId": "03254185060287524023"
     },
     "user_tz": -330
    },
    "id": "gorgeous-clothing",
    "outputId": "53417e14-ae1b-4e56-d3c0-f8e82ca73aef"
   },
   "outputs": [],
   "source": [
    "model.fit(X_train, train_targets)"
   ]
  },
  {
   "cell_type": "code",
   "execution_count": null,
   "id": "clinical-hands",
   "metadata": {
    "colab": {
     "base_uri": "https://localhost:8080/"
    },
    "executionInfo": {
     "elapsed": 1457,
     "status": "ok",
     "timestamp": 1663001820886,
     "user": {
      "displayName": "Aakash N S",
      "userId": "03254185060287524023"
     },
     "user_tz": -330
    },
    "id": "clinical-hands",
    "outputId": "d233ae96-025d-4c20-e6e4-3276ebff7670"
   },
   "outputs": [],
   "source": [
    "model.score(X_train, train_targets)"
   ]
  },
  {
   "cell_type": "code",
   "execution_count": null,
   "id": "digital-belgium",
   "metadata": {
    "colab": {
     "base_uri": "https://localhost:8080/"
    },
    "executionInfo": {
     "elapsed": 9,
     "status": "ok",
     "timestamp": 1663001820886,
     "user": {
      "displayName": "Aakash N S",
      "userId": "03254185060287524023"
     },
     "user_tz": -330
    },
    "id": "digital-belgium",
    "outputId": "098eb181-dab4-4f3b-a7e0-383365239946"
   },
   "outputs": [],
   "source": [
    "model.score(X_val, val_targets)"
   ]
  },
  {
   "cell_type": "code",
   "execution_count": null,
   "id": "corporate-glenn",
   "metadata": {
    "colab": {
     "base_uri": "https://localhost:8080/"
    },
    "executionInfo": {
     "elapsed": 5,
     "status": "ok",
     "timestamp": 1663001820886,
     "user": {
      "displayName": "Aakash N S",
      "userId": "03254185060287524023"
     },
     "user_tz": -330
    },
    "id": "corporate-glenn",
    "outputId": "77d812f1-98a5-48a0-cf44-a0769041b9b4"
   },
   "outputs": [],
   "source": [
    "model.tree_.max_depth"
   ]
  },
  {
   "cell_type": "markdown",
   "id": "brilliant-religious",
   "metadata": {
    "id": "brilliant-religious"
   },
   "source": [
    "Notice that the model was able to achieve a greater depth of 12 for certain paths while keeping other paths shorter."
   ]
  },
  {
   "cell_type": "code",
   "execution_count": null,
   "id": "grand-interface",
   "metadata": {
    "colab": {
     "base_uri": "https://localhost:8080/"
    },
    "executionInfo": {
     "elapsed": 3,
     "status": "ok",
     "timestamp": 1663001828789,
     "user": {
      "displayName": "Aakash N S",
      "userId": "03254185060287524023"
     },
     "user_tz": -330
    },
    "id": "grand-interface",
    "outputId": "84c1de42-bf98-411c-ac64-985775641d55"
   },
   "outputs": [],
   "source": [
    "model_text = export_text(model, feature_names=list(X_train.columns))\n",
    "print(model_text[:3000])"
   ]
  },
  {
   "cell_type": "markdown",
   "id": "northern-security",
   "metadata": {
    "id": "northern-security"
   },
   "source": [
    "> **EXERCISE**: Find the combination of `max_depth` and `max_leaf_nodes` that results in the highest validation accuracy."
   ]
  },
  {
   "cell_type": "code",
   "execution_count": null,
   "id": "revised-guard",
   "metadata": {
    "id": "revised-guard"
   },
   "outputs": [],
   "source": []
  },
  {
   "cell_type": "code",
   "execution_count": null,
   "id": "purple-chaos",
   "metadata": {
    "id": "purple-chaos"
   },
   "outputs": [],
   "source": []
  },
  {
   "cell_type": "markdown",
   "id": "ambient-appendix",
   "metadata": {
    "id": "ambient-appendix"
   },
   "source": [
    "> **EXERCISE**: Explore and experiment with other arguments of `DecisionTree`. Refer to the docs for details: https://scikit-learn.org/stable/modules/generated/sklearn.tree.DecisionTreeClassifier.html"
   ]
  },
  {
   "cell_type": "code",
   "execution_count": null,
   "id": "cardiac-nashville",
   "metadata": {
    "id": "cardiac-nashville"
   },
   "outputs": [],
   "source": []
  },
  {
   "cell_type": "code",
   "execution_count": null,
   "id": "aerial-holiday",
   "metadata": {
    "id": "aerial-holiday"
   },
   "outputs": [],
   "source": []
  },
  {
   "cell_type": "markdown",
   "id": "coral-amendment",
   "metadata": {
    "id": "coral-amendment"
   },
   "source": [
    "> **EXERCISE**: A more advanced technique (but less commonly used technique) for reducing overfitting in decision trees is known as cost-complexity pruning. Learn more about it here: https://scikit-learn.org/stable/auto_examples/tree/plot_cost_complexity_pruning.html . Implement cost complexity pruning. Do you see any improvement in the validation accuracy?"
   ]
  },
  {
   "cell_type": "code",
   "execution_count": null,
   "id": "understood-crown",
   "metadata": {
    "id": "understood-crown"
   },
   "outputs": [],
   "source": [
    "model = DecisionTreeClassifier(random_state = 42)"
   ]
  },
  {
   "cell_type": "code",
   "execution_count": null,
   "id": "175259ef",
   "metadata": {},
   "outputs": [],
   "source": [
    "model.fit(X_train , train_targets)"
   ]
  },
  {
   "cell_type": "code",
   "execution_count": null,
   "id": "vertical-bacteria",
   "metadata": {
    "id": "vertical-bacteria"
   },
   "outputs": [],
   "source": [
    "model.cost_complexity_pruning_path(X_train,train_targets)"
   ]
  },
  {
   "cell_type": "code",
   "execution_count": null,
   "id": "422943fa",
   "metadata": {},
   "outputs": [],
   "source": [
    "model.score(X_train,train_targets)"
   ]
  },
  {
   "cell_type": "code",
   "execution_count": null,
   "id": "116986da",
   "metadata": {},
   "outputs": [],
   "source": [
    "model.score(X_val,val_targets)"
   ]
  },
  {
   "cell_type": "markdown",
   "id": "sophisticated-conjunction",
   "metadata": {
    "id": "sophisticated-conjunction"
   },
   "source": [
    "Let's save our work before continuing."
   ]
  },
  {
   "cell_type": "code",
   "execution_count": null,
   "id": "celtic-norwegian",
   "metadata": {
    "colab": {
     "base_uri": "https://localhost:8080/",
     "height": 89
    },
    "executionInfo": {
     "elapsed": 4432,
     "status": "ok",
     "timestamp": 1663001840091,
     "user": {
      "displayName": "Aakash N S",
      "userId": "03254185060287524023"
     },
     "user_tz": -330
    },
    "id": "celtic-norwegian",
    "outputId": "fcf3282b-0486-44ca-f840-cc571c14aa91"
   },
   "outputs": [],
   "source": [
    "# jovian.commit()"
   ]
  },
  {
   "cell_type": "markdown",
   "id": "bibliographic-correlation",
   "metadata": {
    "id": "bibliographic-correlation"
   },
   "source": [
    "## Training a Random Forest\n",
    "\n",
    "While tuning the hyperparameters of a single decision tree may lead to some improvements, a much more effective strategy is to combine the results of several decision trees trained with slightly different parameters. This is called a random forest model. \n",
    "\n",
    "The key idea here is that each decision tree in the forest will make different kinds of errors, and upon averaging, many of their errors will cancel out. This idea is also commonly known as the \"wisdom of the crowd\":\n",
    "\n",
    "<img src=\"https://i.imgur.com/4Dg0XK4.png\" width=\"480\">"
   ]
  },
  {
   "cell_type": "markdown",
   "id": "included-monte",
   "metadata": {
    "id": "included-monte"
   },
   "source": [
    "A random forest works by averaging/combining the results of several decision trees:\n",
    "\n",
    "<img src=\"https://1.bp.blogspot.com/-Ax59WK4DE8w/YK6o9bt_9jI/AAAAAAAAEQA/9KbBf9cdL6kOFkJnU39aUn4m8ydThPenwCLcBGAsYHQ/s0/Random%2BForest%2B03.gif\" width=\"640\">\n",
    "\n",
    "\n",
    "We'll use the `RandomForestClassifier` class from `sklearn.ensemble`."
   ]
  },
  {
   "cell_type": "code",
   "execution_count": null,
   "id": "employed-arrest",
   "metadata": {
    "executionInfo": {
     "elapsed": 5,
     "status": "ok",
     "timestamp": 1663001840091,
     "user": {
      "displayName": "Aakash N S",
      "userId": "03254185060287524023"
     },
     "user_tz": -330
    },
    "id": "employed-arrest"
   },
   "outputs": [],
   "source": [
    "from sklearn.ensemble import RandomForestClassifier"
   ]
  },
  {
   "cell_type": "code",
   "execution_count": null,
   "id": "sufficient-stick",
   "metadata": {
    "executionInfo": {
     "elapsed": 6,
     "status": "ok",
     "timestamp": 1663001840092,
     "user": {
      "displayName": "Aakash N S",
      "userId": "03254185060287524023"
     },
     "user_tz": -330
    },
    "id": "sufficient-stick"
   },
   "outputs": [],
   "source": [
    "model = RandomForestClassifier(n_jobs=-1, random_state=42)"
   ]
  },
  {
   "cell_type": "markdown",
   "id": "durable-kitchen",
   "metadata": {
    "id": "durable-kitchen"
   },
   "source": [
    "`n_jobs` allows the random forest to use mutiple parallel workers to train decision trees, and `random_state=42` ensures that the we get the same results for each execution."
   ]
  },
  {
   "cell_type": "code",
   "execution_count": null,
   "id": "alpha-stable",
   "metadata": {
    "colab": {
     "base_uri": "https://localhost:8080/"
    },
    "executionInfo": {
     "elapsed": 18903,
     "status": "ok",
     "timestamp": 1663001858990,
     "user": {
      "displayName": "Aakash N S",
      "userId": "03254185060287524023"
     },
     "user_tz": -330
    },
    "id": "alpha-stable",
    "outputId": "f4caefae-f636-4996-85f0-6e44c7add972"
   },
   "outputs": [],
   "source": [
    "%%time\n",
    "model.fit(X_train, train_targets)"
   ]
  },
  {
   "cell_type": "code",
   "execution_count": null,
   "id": "advanced-evidence",
   "metadata": {
    "colab": {
     "base_uri": "https://localhost:8080/"
    },
    "executionInfo": {
     "elapsed": 2885,
     "status": "ok",
     "timestamp": 1663001861863,
     "user": {
      "displayName": "Aakash N S",
      "userId": "03254185060287524023"
     },
     "user_tz": -330
    },
    "id": "advanced-evidence",
    "outputId": "ef94ff6e-6f95-408a-c69b-18e4c6d46f83"
   },
   "outputs": [],
   "source": [
    "model.score(X_train, train_targets)"
   ]
  },
  {
   "cell_type": "code",
   "execution_count": null,
   "id": "optimum-flash",
   "metadata": {
    "colab": {
     "base_uri": "https://localhost:8080/"
    },
    "executionInfo": {
     "elapsed": 731,
     "status": "ok",
     "timestamp": 1663001862591,
     "user": {
      "displayName": "Aakash N S",
      "userId": "03254185060287524023"
     },
     "user_tz": -330
    },
    "id": "optimum-flash",
    "outputId": "bfc99a86-a6e9-4d30-fac5-544f0f17a4f3"
   },
   "outputs": [],
   "source": [
    "model.score(X_val, val_targets)"
   ]
  },
  {
   "cell_type": "markdown",
   "id": "democratic-pilot",
   "metadata": {
    "id": "democratic-pilot"
   },
   "source": [
    "Once again, the training accuracy is almost 100%, but this time the validation accuracy is much better. In fact, it is better than the best single decision tree we had trained so far. Do you see the power of random forests?\n",
    "\n",
    "This general technique of combining the results of many models is called \"ensembling\", it works because most errors of individual models cancel out on averaging. Here's what it looks like visually:\n",
    "\n",
    "<img src=\"https://i.imgur.com/qJo8D8b.png\" width=\"640\">\n",
    "\n",
    "\n",
    "We can also look at the probabilities for the predictions. The probability of a class is simply the fraction of trees which that predicted the given class."
   ]
  },
  {
   "cell_type": "code",
   "execution_count": null,
   "id": "major-aquatic",
   "metadata": {
    "colab": {
     "base_uri": "https://localhost:8080/"
    },
    "executionInfo": {
     "elapsed": 2644,
     "status": "ok",
     "timestamp": 1663001869762,
     "user": {
      "displayName": "Aakash N S",
      "userId": "03254185060287524023"
     },
     "user_tz": -330
    },
    "id": "major-aquatic",
    "outputId": "3cece0d9-5415-4155-b32f-a3220ba64935"
   },
   "outputs": [],
   "source": [
    "train_probs = model.predict_proba(X_train)\n",
    "train_probs"
   ]
  },
  {
   "cell_type": "markdown",
   "id": "handled-analysis",
   "metadata": {
    "id": "handled-analysis"
   },
   "source": [
    "We can can access individual decision trees using `model.estimators_`"
   ]
  },
  {
   "cell_type": "code",
   "execution_count": null,
   "id": "harmful-pizza",
   "metadata": {
    "colab": {
     "base_uri": "https://localhost:8080/"
    },
    "executionInfo": {
     "elapsed": 5,
     "status": "ok",
     "timestamp": 1663001869762,
     "user": {
      "displayName": "Aakash N S",
      "userId": "03254185060287524023"
     },
     "user_tz": -330
    },
    "id": "harmful-pizza",
    "outputId": "ea639562-2c4a-40b7-988a-12bab697cac0"
   },
   "outputs": [],
   "source": [
    "model.estimators_[0]"
   ]
  },
  {
   "cell_type": "code",
   "execution_count": null,
   "id": "naked-receipt",
   "metadata": {
    "colab": {
     "base_uri": "https://localhost:8080/",
     "height": 428
    },
    "executionInfo": {
     "elapsed": 2843,
     "status": "ok",
     "timestamp": 1663001872602,
     "user": {
      "displayName": "Aakash N S",
      "userId": "03254185060287524023"
     },
     "user_tz": -330
    },
    "id": "naked-receipt",
    "outputId": "626f09d3-4eab-4f1f-b0aa-f523727f20c3"
   },
   "outputs": [],
   "source": [
    "plt.figure(figsize=(80,20))\n",
    "plot_tree(model.estimators_[0], max_depth=2, feature_names=X_train.columns, filled=True, rounded=True, class_names=model.classes_);"
   ]
  },
  {
   "cell_type": "code",
   "execution_count": null,
   "id": "secret-mason",
   "metadata": {
    "colab": {
     "base_uri": "https://localhost:8080/",
     "height": 428
    },
    "executionInfo": {
     "elapsed": 2316,
     "status": "ok",
     "timestamp": 1663001874914,
     "user": {
      "displayName": "Aakash N S",
      "userId": "03254185060287524023"
     },
     "user_tz": -330
    },
    "id": "secret-mason",
    "outputId": "92754367-2a4e-4e65-dee1-cbb1de4bf74a"
   },
   "outputs": [],
   "source": [
    "plt.figure(figsize=(80,20))\n",
    "plot_tree(model.estimators_[20], max_depth=2, feature_names=X_train.columns, filled=True, rounded=True, class_names=model.classes_);"
   ]
  },
  {
   "cell_type": "code",
   "execution_count": null,
   "id": "valid-palestine",
   "metadata": {
    "colab": {
     "base_uri": "https://localhost:8080/"
    },
    "executionInfo": {
     "elapsed": 8,
     "status": "ok",
     "timestamp": 1663001874915,
     "user": {
      "displayName": "Aakash N S",
      "userId": "03254185060287524023"
     },
     "user_tz": -330
    },
    "id": "valid-palestine",
    "outputId": "db52d6a7-f45c-4a84-8688-658768b8bd99"
   },
   "outputs": [],
   "source": [
    "len(model.estimators_)"
   ]
  },
  {
   "cell_type": "markdown",
   "id": "legislative-storage",
   "metadata": {
    "id": "legislative-storage"
   },
   "source": [
    "> **EXERCISE**: Verify that none of the individual decision trees have a better validation accuracy than the random forest. "
   ]
  },
  {
   "cell_type": "code",
   "execution_count": null,
   "id": "imposed-correlation",
   "metadata": {
    "id": "imposed-correlation"
   },
   "outputs": [],
   "source": []
  },
  {
   "cell_type": "code",
   "execution_count": null,
   "id": "satisfactory-scope",
   "metadata": {
    "id": "satisfactory-scope"
   },
   "outputs": [],
   "source": []
  },
  {
   "cell_type": "markdown",
   "id": "electoral-lounge",
   "metadata": {
    "id": "electoral-lounge"
   },
   "source": [
    "Just like decision tree, random forests also assign an \"importance\" to each feature, by combining the importance values from individual trees."
   ]
  },
  {
   "cell_type": "code",
   "execution_count": null,
   "id": "urban-neutral",
   "metadata": {
    "executionInfo": {
     "elapsed": 619,
     "status": "ok",
     "timestamp": 1663001879002,
     "user": {
      "displayName": "Aakash N S",
      "userId": "03254185060287524023"
     },
     "user_tz": -330
    },
    "id": "urban-neutral"
   },
   "outputs": [],
   "source": [
    "importance_df = pd.DataFrame({\n",
    "    'feature': X_train.columns,\n",
    "    'importance': model.feature_importances_\n",
    "}).sort_values('importance', ascending=False)"
   ]
  },
  {
   "cell_type": "code",
   "execution_count": null,
   "id": "outer-position",
   "metadata": {
    "colab": {
     "base_uri": "https://localhost:8080/",
     "height": 363
    },
    "executionInfo": {
     "elapsed": 10,
     "status": "ok",
     "timestamp": 1663001879002,
     "user": {
      "displayName": "Aakash N S",
      "userId": "03254185060287524023"
     },
     "user_tz": -330
    },
    "id": "outer-position",
    "outputId": "56be2b9b-3fa0-452d-ac18-98779c4d8391"
   },
   "outputs": [],
   "source": [
    "importance_df.head(10)"
   ]
  },
  {
   "cell_type": "code",
   "execution_count": null,
   "id": "perfect-alias",
   "metadata": {
    "colab": {
     "base_uri": "https://localhost:8080/",
     "height": 416
    },
    "executionInfo": {
     "elapsed": 1449,
     "status": "ok",
     "timestamp": 1663001880443,
     "user": {
      "displayName": "Aakash N S",
      "userId": "03254185060287524023"
     },
     "user_tz": -330
    },
    "id": "perfect-alias",
    "outputId": "e377b892-7720-4f29-e08b-b7c82617f253"
   },
   "outputs": [],
   "source": [
    "plt.title('Feature Importance')\n",
    "sns.barplot(data=importance_df.head(10), x='importance', y='feature');"
   ]
  },
  {
   "cell_type": "markdown",
   "id": "inappropriate-tackle",
   "metadata": {
    "id": "inappropriate-tackle"
   },
   "source": [
    "Notice that the distribution is a lot less skewed than that for a single decision tree."
   ]
  },
  {
   "cell_type": "markdown",
   "id": "adjacent-jaguar",
   "metadata": {
    "id": "adjacent-jaguar"
   },
   "source": [
    "Let's save our work before continuing."
   ]
  },
  {
   "cell_type": "code",
   "execution_count": null,
   "id": "backed-lebanon",
   "metadata": {
    "colab": {
     "base_uri": "https://localhost:8080/",
     "height": 89
    },
    "executionInfo": {
     "elapsed": 5921,
     "status": "ok",
     "timestamp": 1663001889799,
     "user": {
      "displayName": "Aakash N S",
      "userId": "03254185060287524023"
     },
     "user_tz": -330
    },
    "id": "backed-lebanon",
    "outputId": "e64416ce-bfb5-42fe-bb78-212bc31a943e"
   },
   "outputs": [],
   "source": [
    "# jovian.commit()"
   ]
  },
  {
   "cell_type": "markdown",
   "id": "residential-ireland",
   "metadata": {
    "id": "residential-ireland"
   },
   "source": [
    "## Hyperparameter Tuning with Random Forests\n",
    "\n",
    "Just like decision trees, random forests also have several hyperparameters. In fact many of these hyperparameters are applied to the underlying decision trees. \n",
    "\n",
    "Let's study some the hyperparameters for random forests. You can learn more about them here: https://scikit-learn.org/stable/modules/generated/sklearn.ensemble.RandomForestClassifier.html"
   ]
  },
  {
   "cell_type": "code",
   "execution_count": null,
   "id": "dominican-evans",
   "metadata": {
    "id": "dominican-evans"
   },
   "outputs": [],
   "source": [
    "?RandomForestClassifier"
   ]
  },
  {
   "cell_type": "markdown",
   "id": "sound-delhi",
   "metadata": {
    "id": "sound-delhi"
   },
   "source": [
    "Let's create a base model with which we can compare models with tuned hyperparameters."
   ]
  },
  {
   "cell_type": "code",
   "execution_count": null,
   "id": "nasty-officer",
   "metadata": {
    "executionInfo": {
     "elapsed": 18956,
     "status": "ok",
     "timestamp": 1663001908750,
     "user": {
      "displayName": "Aakash N S",
      "userId": "03254185060287524023"
     },
     "user_tz": -330
    },
    "id": "nasty-officer"
   },
   "outputs": [],
   "source": [
    "base_model = RandomForestClassifier(random_state=42, n_jobs=-1).fit(X_train, train_targets)"
   ]
  },
  {
   "cell_type": "code",
   "execution_count": null,
   "id": "bound-sheep",
   "metadata": {
    "executionInfo": {
     "elapsed": 3109,
     "status": "ok",
     "timestamp": 1663001911846,
     "user": {
      "displayName": "Aakash N S",
      "userId": "03254185060287524023"
     },
     "user_tz": -330
    },
    "id": "bound-sheep"
   },
   "outputs": [],
   "source": [
    "base_train_acc = base_model.score(X_train, train_targets)\n",
    "base_val_acc = base_model.score(X_val, val_targets)"
   ]
  },
  {
   "cell_type": "code",
   "execution_count": null,
   "id": "hidden-squad",
   "metadata": {
    "colab": {
     "base_uri": "https://localhost:8080/"
    },
    "executionInfo": {
     "elapsed": 4,
     "status": "ok",
     "timestamp": 1663001911847,
     "user": {
      "displayName": "Aakash N S",
      "userId": "03254185060287524023"
     },
     "user_tz": -330
    },
    "id": "hidden-squad",
    "outputId": "727ed728-e59c-4f27-9840-cbf0c916a46c"
   },
   "outputs": [],
   "source": [
    "base_accs = base_train_acc, base_val_acc\n",
    "base_accs"
   ]
  },
  {
   "cell_type": "markdown",
   "id": "better-cliff",
   "metadata": {
    "id": "better-cliff"
   },
   "source": [
    "We can use this as a benchmark for hyperparmeter tuning."
   ]
  },
  {
   "cell_type": "markdown",
   "id": "cellular-belfast",
   "metadata": {
    "id": "cellular-belfast"
   },
   "source": [
    "### `n_estimators`\n",
    "\n",
    "This argument controls the number of decision trees in the random forest. The default value is 100. For larger datasets, it helps to have a greater number of estimators. As a general rule, try to have as few estimators as needed. \n",
    "\n",
    "\n",
    "**10 estimators**"
   ]
  },
  {
   "cell_type": "code",
   "execution_count": null,
   "id": "complicated-roller",
   "metadata": {
    "executionInfo": {
     "elapsed": 654,
     "status": "ok",
     "timestamp": 1663001914109,
     "user": {
      "displayName": "Aakash N S",
      "userId": "03254185060287524023"
     },
     "user_tz": -330
    },
    "id": "complicated-roller"
   },
   "outputs": [],
   "source": [
    "model = RandomForestClassifier(random_state=42, n_jobs=-1, n_estimators=10)"
   ]
  },
  {
   "cell_type": "code",
   "execution_count": null,
   "id": "spanish-familiar",
   "metadata": {
    "colab": {
     "base_uri": "https://localhost:8080/"
    },
    "executionInfo": {
     "elapsed": 1517,
     "status": "ok",
     "timestamp": 1663001916149,
     "user": {
      "displayName": "Aakash N S",
      "userId": "03254185060287524023"
     },
     "user_tz": -330
    },
    "id": "spanish-familiar",
    "outputId": "6af84f99-7718-4397-e8b4-8f406c2b281a",
    "scrolled": true
   },
   "outputs": [],
   "source": [
    "model.fit(X_train, train_targets)"
   ]
  },
  {
   "cell_type": "code",
   "execution_count": null,
   "id": "illegal-turkish",
   "metadata": {
    "colab": {
     "base_uri": "https://localhost:8080/"
    },
    "executionInfo": {
     "elapsed": 922,
     "status": "ok",
     "timestamp": 1663001917069,
     "user": {
      "displayName": "Aakash N S",
      "userId": "03254185060287524023"
     },
     "user_tz": -330
    },
    "id": "illegal-turkish",
    "outputId": "630db4c7-d1c8-48a5-ca04-bd847915273d"
   },
   "outputs": [],
   "source": [
    "model.score(X_train, train_targets), model.score(X_val, val_targets)"
   ]
  },
  {
   "cell_type": "code",
   "execution_count": null,
   "id": "catholic-alabama",
   "metadata": {
    "colab": {
     "base_uri": "https://localhost:8080/"
    },
    "executionInfo": {
     "elapsed": 6,
     "status": "ok",
     "timestamp": 1663001917069,
     "user": {
      "displayName": "Aakash N S",
      "userId": "03254185060287524023"
     },
     "user_tz": -330
    },
    "id": "catholic-alabama",
    "outputId": "a0d2d84e-370f-495b-9aca-0b13b3a07fc4"
   },
   "outputs": [],
   "source": [
    "base_accs"
   ]
  },
  {
   "cell_type": "markdown",
   "id": "soviet-canon",
   "metadata": {
    "id": "soviet-canon"
   },
   "source": [
    "**500 estimators**"
   ]
  },
  {
   "cell_type": "code",
   "execution_count": null,
   "id": "narrative-prayer",
   "metadata": {
    "colab": {
     "base_uri": "https://localhost:8080/"
    },
    "executionInfo": {
     "elapsed": 94026,
     "status": "ok",
     "timestamp": 1663002016003,
     "user": {
      "displayName": "Aakash N S",
      "userId": "03254185060287524023"
     },
     "user_tz": -330
    },
    "id": "narrative-prayer",
    "outputId": "d1dca902-0194-4b0a-cc31-d4a302f9f646"
   },
   "outputs": [],
   "source": [
    "model = RandomForestClassifier(random_state=42, n_jobs=-1, n_estimators=500)\n",
    "model.fit(X_train, train_targets)"
   ]
  },
  {
   "cell_type": "code",
   "execution_count": null,
   "id": "legislative-export",
   "metadata": {
    "colab": {
     "base_uri": "https://localhost:8080/"
    },
    "executionInfo": {
     "elapsed": 11955,
     "status": "ok",
     "timestamp": 1663002027950,
     "user": {
      "displayName": "Aakash N S",
      "userId": "03254185060287524023"
     },
     "user_tz": -330
    },
    "id": "legislative-export",
    "outputId": "b901f536-12fe-42f2-d33f-f014fc97f833"
   },
   "outputs": [],
   "source": [
    "model.score(X_train, train_targets)"
   ]
  },
  {
   "cell_type": "code",
   "execution_count": null,
   "id": "impressive-guide",
   "metadata": {
    "colab": {
     "base_uri": "https://localhost:8080/"
    },
    "executionInfo": {
     "elapsed": 2593,
     "status": "ok",
     "timestamp": 1663002030530,
     "user": {
      "displayName": "Aakash N S",
      "userId": "03254185060287524023"
     },
     "user_tz": -330
    },
    "id": "impressive-guide",
    "outputId": "1f7fefc9-f4d2-440d-bcfb-81a26b680f00"
   },
   "outputs": [],
   "source": [
    "model.score(X_val, val_targets)"
   ]
  },
  {
   "cell_type": "code",
   "execution_count": null,
   "id": "tribal-storm",
   "metadata": {
    "colab": {
     "base_uri": "https://localhost:8080/"
    },
    "executionInfo": {
     "elapsed": 6,
     "status": "ok",
     "timestamp": 1663002030531,
     "user": {
      "displayName": "Aakash N S",
      "userId": "03254185060287524023"
     },
     "user_tz": -330
    },
    "id": "tribal-storm",
    "outputId": "e104e723-d7f7-4fe5-f697-3dc6b536d471"
   },
   "outputs": [],
   "source": [
    "base_accs"
   ]
  },
  {
   "cell_type": "markdown",
   "id": "german-afghanistan",
   "metadata": {
    "id": "german-afghanistan"
   },
   "source": [
    "> **EXERCISE**: Vary the value of `n_estimators` and plot the graph between training error and validation error. What is the optimal value of `n_estimators`?"
   ]
  },
  {
   "cell_type": "code",
   "execution_count": null,
   "id": "injured-strengthening",
   "metadata": {
    "id": "injured-strengthening"
   },
   "outputs": [],
   "source": []
  },
  {
   "cell_type": "markdown",
   "id": "temporal-kenya",
   "metadata": {
    "id": "temporal-kenya"
   },
   "source": [
    "### `max_depth` and `max_leaf_nodes`\n",
    "\n",
    "These arguments are passed directly to each decision tree, and control the maximum depth and max. no leaf nodes of each tree respectively. By default, no maximum depth is specified, which is why each tree has a training accuracy of 100%. You can specify a `max_depth` to reduce overfitting.\n",
    "\n",
    "<img src=\"https://i.imgur.com/EJCrSZw.png\" width=\"480\">\n"
   ]
  },
  {
   "cell_type": "markdown",
   "id": "norwegian-little",
   "metadata": {
    "id": "norwegian-little"
   },
   "source": [
    "Let's define a helper function `test_params` to make it easy to test hyperparameters."
   ]
  },
  {
   "cell_type": "code",
   "execution_count": null,
   "id": "forbidden-society",
   "metadata": {
    "executionInfo": {
     "elapsed": 358,
     "status": "ok",
     "timestamp": 1663002045679,
     "user": {
      "displayName": "Aakash N S",
      "userId": "03254185060287524023"
     },
     "user_tz": -330
    },
    "id": "forbidden-society"
   },
   "outputs": [],
   "source": [
    "def test_params(**params):\n",
    "    model = RandomForestClassifier(random_state=42, n_jobs=-1, **params).fit(X_train, train_targets)\n",
    "    return model.score(X_train, train_targets), model.score(X_val, val_targets)"
   ]
  },
  {
   "cell_type": "markdown",
   "id": "local-machinery",
   "metadata": {
    "id": "local-machinery"
   },
   "source": [
    "Let's test a few values of `max_depth` and `max_leaf_nodes`."
   ]
  },
  {
   "cell_type": "code",
   "execution_count": null,
   "id": "handled-sentence",
   "metadata": {
    "colab": {
     "base_uri": "https://localhost:8080/"
    },
    "executionInfo": {
     "elapsed": 6305,
     "status": "ok",
     "timestamp": 1663002084491,
     "user": {
      "displayName": "Aakash N S",
      "userId": "03254185060287524023"
     },
     "user_tz": -330
    },
    "id": "handled-sentence",
    "outputId": "6c0059ac-28bc-410a-977b-e074caed0f5c"
   },
   "outputs": [],
   "source": [
    "test_params(max_depth=5)"
   ]
  },
  {
   "cell_type": "code",
   "execution_count": null,
   "id": "addressed-virtue",
   "metadata": {
    "colab": {
     "base_uri": "https://localhost:8080/"
    },
    "executionInfo": {
     "elapsed": 19980,
     "status": "ok",
     "timestamp": 1663002104468,
     "user": {
      "displayName": "Aakash N S",
      "userId": "03254185060287524023"
     },
     "user_tz": -330
    },
    "id": "addressed-virtue",
    "outputId": "605aa124-67dc-4d43-edc4-b5d3e99ccc4a"
   },
   "outputs": [],
   "source": [
    "test_params(max_depth=26)"
   ]
  },
  {
   "cell_type": "code",
   "execution_count": null,
   "id": "geological-portsmouth",
   "metadata": {
    "colab": {
     "base_uri": "https://localhost:8080/"
    },
    "executionInfo": {
     "elapsed": 6300,
     "status": "ok",
     "timestamp": 1663002110755,
     "user": {
      "displayName": "Aakash N S",
      "userId": "03254185060287524023"
     },
     "user_tz": -330
    },
    "id": "geological-portsmouth",
    "outputId": "227c5d0f-1d31-4b22-b27a-22510a6ac008"
   },
   "outputs": [],
   "source": [
    "test_params(max_leaf_nodes=2**5)"
   ]
  },
  {
   "cell_type": "code",
   "execution_count": null,
   "id": "functioning-virtue",
   "metadata": {
    "colab": {
     "base_uri": "https://localhost:8080/"
    },
    "executionInfo": {
     "elapsed": 24594,
     "status": "ok",
     "timestamp": 1663002135324,
     "user": {
      "displayName": "Aakash N S",
      "userId": "03254185060287524023"
     },
     "user_tz": -330
    },
    "id": "functioning-virtue",
    "outputId": "d69942f4-3967-4941-ffe7-aa0654a1aa5b"
   },
   "outputs": [],
   "source": [
    "test_params(max_leaf_nodes=2**20)"
   ]
  },
  {
   "cell_type": "code",
   "execution_count": null,
   "id": "renewable-berkeley",
   "metadata": {
    "colab": {
     "base_uri": "https://localhost:8080/"
    },
    "executionInfo": {
     "elapsed": 15,
     "status": "ok",
     "timestamp": 1663002135325,
     "user": {
      "displayName": "Aakash N S",
      "userId": "03254185060287524023"
     },
     "user_tz": -330
    },
    "id": "renewable-berkeley",
    "outputId": "2a01947e-2982-4d97-c317-9b5dc917ed4e"
   },
   "outputs": [],
   "source": [
    "base_accs # no max depth or max leaf nodes"
   ]
  },
  {
   "cell_type": "markdown",
   "id": "breeding-audience",
   "metadata": {
    "id": "breeding-audience"
   },
   "source": [
    "The optimal values of `max_depth` and `max_leaf_nodes` lies somewhere between 0 and unbounded."
   ]
  },
  {
   "cell_type": "markdown",
   "id": "smooth-result",
   "metadata": {
    "id": "smooth-result"
   },
   "source": [
    "> **EXERCISE**: Vary the value of `max_depth` and plot the graph between training error and validation error. What is the optimal value of `max_depth`? Do the same for `max_leaf_nodes`."
   ]
  },
  {
   "cell_type": "code",
   "execution_count": null,
   "id": "united-wilson",
   "metadata": {
    "id": "united-wilson"
   },
   "outputs": [],
   "source": []
  },
  {
   "cell_type": "code",
   "execution_count": null,
   "id": "rental-substance",
   "metadata": {
    "id": "rental-substance"
   },
   "outputs": [],
   "source": []
  },
  {
   "cell_type": "markdown",
   "id": "nuclear-asbestos",
   "metadata": {
    "id": "nuclear-asbestos"
   },
   "source": [
    "### `max_features`\n",
    "\n",
    "Instead of picking all features (columns) for every split, we can specify that only a fraction of features be chosen randomly to figure out a split.\n",
    "\n",
    "<img src=\"https://i.imgur.com/FXGWMDY.png\" width=\"720\">\n",
    "\n",
    "Notice that the default value `auto` causes only $\\sqrt{n}$ out of total features ( $n$ ) to be chosen randomly at each split. This is the reason each decision tree in the forest is different. While it may seem counterintuitive, choosing all features for every split of every tree will lead to identical trees, so the random forest will not generalize well. "
   ]
  },
  {
   "cell_type": "code",
   "execution_count": null,
   "id": "victorian-assurance",
   "metadata": {
    "colab": {
     "base_uri": "https://localhost:8080/"
    },
    "executionInfo": {
     "elapsed": 17953,
     "status": "ok",
     "timestamp": 1663002159038,
     "user": {
      "displayName": "Aakash N S",
      "userId": "03254185060287524023"
     },
     "user_tz": -330
    },
    "id": "victorian-assurance",
    "outputId": "0debc1cc-7c65-4153-e43d-24fae525529d"
   },
   "outputs": [],
   "source": [
    "test_params(max_features='log2')"
   ]
  },
  {
   "cell_type": "code",
   "execution_count": null,
   "id": "invisible-complement",
   "metadata": {
    "colab": {
     "base_uri": "https://localhost:8080/"
    },
    "executionInfo": {
     "elapsed": 20488,
     "status": "ok",
     "timestamp": 1663002179523,
     "user": {
      "displayName": "Aakash N S",
      "userId": "03254185060287524023"
     },
     "user_tz": -330
    },
    "id": "invisible-complement",
    "outputId": "3af8e108-d549-457a-d936-3289f4fbdec0"
   },
   "outputs": [],
   "source": [
    "test_params(max_features=3)"
   ]
  },
  {
   "cell_type": "code",
   "execution_count": null,
   "id": "sonic-davis",
   "metadata": {
    "colab": {
     "base_uri": "https://localhost:8080/"
    },
    "executionInfo": {
     "elapsed": 22526,
     "status": "ok",
     "timestamp": 1663002202035,
     "user": {
      "displayName": "Aakash N S",
      "userId": "03254185060287524023"
     },
     "user_tz": -330
    },
    "id": "sonic-davis",
    "outputId": "ec8b419a-2a7f-425c-e1b4-69970e95121d"
   },
   "outputs": [],
   "source": [
    "test_params(max_features=6)"
   ]
  },
  {
   "cell_type": "code",
   "execution_count": null,
   "id": "typical-delivery",
   "metadata": {
    "colab": {
     "base_uri": "https://localhost:8080/"
    },
    "executionInfo": {
     "elapsed": 18,
     "status": "ok",
     "timestamp": 1663002202036,
     "user": {
      "displayName": "Aakash N S",
      "userId": "03254185060287524023"
     },
     "user_tz": -330
    },
    "id": "typical-delivery",
    "outputId": "4e610a7a-2ea8-441c-e7f3-9e7cec3bca05"
   },
   "outputs": [],
   "source": [
    "base_accs"
   ]
  },
  {
   "cell_type": "markdown",
   "id": "difficult-clinic",
   "metadata": {
    "id": "difficult-clinic"
   },
   "source": [
    "> **EXERCISE**: Find the optimal values of `max_features` for this dataset."
   ]
  },
  {
   "cell_type": "code",
   "execution_count": null,
   "id": "billion-publication",
   "metadata": {
    "id": "billion-publication"
   },
   "outputs": [],
   "source": []
  },
  {
   "cell_type": "markdown",
   "id": "korean-vessel",
   "metadata": {
    "id": "korean-vessel"
   },
   "source": [
    "### `min_samples_split` and `min_samples_leaf`\n",
    "\n",
    "By default, the decision tree classifier tries to split every node that has 2 or more. You can increase the values of these arguments to change this behavior and reduce overfitting, especially for very large datasets."
   ]
  },
  {
   "cell_type": "code",
   "execution_count": null,
   "id": "latter-teddy",
   "metadata": {
    "colab": {
     "base_uri": "https://localhost:8080/"
    },
    "executionInfo": {
     "elapsed": 20744,
     "status": "ok",
     "timestamp": 1663002240755,
     "user": {
      "displayName": "Aakash N S",
      "userId": "03254185060287524023"
     },
     "user_tz": -330
    },
    "id": "latter-teddy",
    "outputId": "09c2648f-2c80-46b2-cb21-43d10bafb2b4"
   },
   "outputs": [],
   "source": [
    "test_params(min_samples_split=3, min_samples_leaf=2)"
   ]
  },
  {
   "cell_type": "code",
   "execution_count": null,
   "id": "conventional-abuse",
   "metadata": {
    "colab": {
     "base_uri": "https://localhost:8080/"
    },
    "executionInfo": {
     "elapsed": 12652,
     "status": "ok",
     "timestamp": 1663002253404,
     "user": {
      "displayName": "Aakash N S",
      "userId": "03254185060287524023"
     },
     "user_tz": -330
    },
    "id": "conventional-abuse",
    "outputId": "3a00e509-1c0a-44b4-fcc6-2acd03dd2750"
   },
   "outputs": [],
   "source": [
    "test_params(min_samples_split=100, min_samples_leaf=60)"
   ]
  },
  {
   "cell_type": "code",
   "execution_count": null,
   "id": "earned-particle",
   "metadata": {
    "colab": {
     "base_uri": "https://localhost:8080/"
    },
    "executionInfo": {
     "elapsed": 6,
     "status": "ok",
     "timestamp": 1663002253404,
     "user": {
      "displayName": "Aakash N S",
      "userId": "03254185060287524023"
     },
     "user_tz": -330
    },
    "id": "earned-particle",
    "outputId": "8e2b6cb8-85fe-41e0-9779-ad7f9bf48712"
   },
   "outputs": [],
   "source": [
    "base_accs"
   ]
  },
  {
   "cell_type": "markdown",
   "id": "funky-labor",
   "metadata": {
    "id": "funky-labor"
   },
   "source": [
    "> **EXERCISE**: Find the optimal values of `min_samples_split` and `min_samples_leaf`."
   ]
  },
  {
   "cell_type": "code",
   "execution_count": null,
   "id": "least-physics",
   "metadata": {
    "executionInfo": {
     "elapsed": 5,
     "status": "ok",
     "timestamp": 1663002253405,
     "user": {
      "displayName": "Aakash N S",
      "userId": "03254185060287524023"
     },
     "user_tz": -330
    },
    "id": "least-physics"
   },
   "outputs": [],
   "source": []
  },
  {
   "cell_type": "code",
   "execution_count": null,
   "id": "prepared-evaluation",
   "metadata": {
    "executionInfo": {
     "elapsed": 4,
     "status": "ok",
     "timestamp": 1663002253405,
     "user": {
      "displayName": "Aakash N S",
      "userId": "03254185060287524023"
     },
     "user_tz": -330
    },
    "id": "prepared-evaluation"
   },
   "outputs": [],
   "source": []
  },
  {
   "cell_type": "markdown",
   "id": "duplicate-specialist",
   "metadata": {
    "id": "duplicate-specialist"
   },
   "source": [
    "### `min_impurity_decrease`\n",
    "\n",
    "This argument is used to control the threshold for splitting nodes. A node will be split if this split induces a decrease of the impurity (Gini index) greater than or equal to this value. It's default value is 0, and you can increase it to reduce overfitting.\n",
    "\n"
   ]
  },
  {
   "cell_type": "code",
   "execution_count": null,
   "id": "flexible-surprise",
   "metadata": {
    "colab": {
     "base_uri": "https://localhost:8080/"
    },
    "executionInfo": {
     "elapsed": 20857,
     "status": "ok",
     "timestamp": 1663002274259,
     "user": {
      "displayName": "Aakash N S",
      "userId": "03254185060287524023"
     },
     "user_tz": -330
    },
    "id": "flexible-surprise",
    "outputId": "a4dc094a-dfe2-436c-bd6a-3d51c5330ffa"
   },
   "outputs": [],
   "source": [
    "test_params(min_impurity_decrease=1e-7)"
   ]
  },
  {
   "cell_type": "code",
   "execution_count": null,
   "id": "parental-northeast",
   "metadata": {
    "colab": {
     "base_uri": "https://localhost:8080/"
    },
    "executionInfo": {
     "elapsed": 3481,
     "status": "ok",
     "timestamp": 1663002277738,
     "user": {
      "displayName": "Aakash N S",
      "userId": "03254185060287524023"
     },
     "user_tz": -330
    },
    "id": "parental-northeast",
    "outputId": "d99949d6-61bb-40ad-c029-7ef13dd83c4a"
   },
   "outputs": [],
   "source": [
    "test_params(min_impurity_decrease=1e-2)"
   ]
  },
  {
   "cell_type": "code",
   "execution_count": null,
   "id": "provincial-number",
   "metadata": {
    "colab": {
     "base_uri": "https://localhost:8080/"
    },
    "executionInfo": {
     "elapsed": 18,
     "status": "ok",
     "timestamp": 1663002277739,
     "user": {
      "displayName": "Aakash N S",
      "userId": "03254185060287524023"
     },
     "user_tz": -330
    },
    "id": "provincial-number",
    "outputId": "23e68b0c-5605-41e5-c689-783afd39b74a"
   },
   "outputs": [],
   "source": [
    "base_accs"
   ]
  },
  {
   "cell_type": "markdown",
   "id": "immune-attachment",
   "metadata": {
    "id": "immune-attachment"
   },
   "source": [
    "> **EXERCISE**: Find the optimal values of `min_impurity_decrease` for this dataset."
   ]
  },
  {
   "cell_type": "code",
   "execution_count": null,
   "id": "fatal-stranger",
   "metadata": {
    "id": "fatal-stranger"
   },
   "outputs": [],
   "source": []
  },
  {
   "cell_type": "markdown",
   "id": "express-accident",
   "metadata": {
    "id": "express-accident"
   },
   "source": [
    "### `bootstrap`, `max_samples` \n",
    "\n",
    "By default, a random forest doesn't use the entire dataset for training each decision tree. Instead it applies a technique called bootstrapping. For each tree, rows from the dataset are picked one by one randomly, with replacement i.e. some rows may not show up at all, while some rows may show up multiple times.\n",
    "\n",
    "\n",
    "<img src=\"https://i.imgur.com/W8UGaEA.png\" width=\"640\">\n",
    "\n",
    "Bootstrapping helps the random forest generalize better, because each decision tree only sees a fraction of th training set, and some rows randomly get higher weightage than others."
   ]
  },
  {
   "cell_type": "code",
   "execution_count": null,
   "id": "dirty-biodiversity",
   "metadata": {
    "colab": {
     "base_uri": "https://localhost:8080/"
    },
    "executionInfo": {
     "elapsed": 30556,
     "status": "ok",
     "timestamp": 1663002310962,
     "user": {
      "displayName": "Aakash N S",
      "userId": "03254185060287524023"
     },
     "user_tz": -330
    },
    "id": "dirty-biodiversity",
    "outputId": "71e40ba7-9d36-4546-b319-8baf4bb8998f"
   },
   "outputs": [],
   "source": [
    "test_params(bootstrap=False)"
   ]
  },
  {
   "cell_type": "code",
   "execution_count": null,
   "id": "hollow-martin",
   "metadata": {
    "colab": {
     "base_uri": "https://localhost:8080/"
    },
    "executionInfo": {
     "elapsed": 15,
     "status": "ok",
     "timestamp": 1663002310963,
     "user": {
      "displayName": "Aakash N S",
      "userId": "03254185060287524023"
     },
     "user_tz": -330
    },
    "id": "hollow-martin",
    "outputId": "83fa44ee-82aa-447b-eccd-88b28262c0e1"
   },
   "outputs": [],
   "source": [
    "base_accs"
   ]
  },
  {
   "cell_type": "markdown",
   "id": "intellectual-preservation",
   "metadata": {
    "id": "intellectual-preservation"
   },
   "source": [
    "When bootstrapping is enabled, you can also control the number or fraction of rows to be considered for each bootstrap using `max_samples`. This can further generalize the model.\n",
    "\n",
    "<img src=\"https://i.imgur.com/rsdrL1W.png\" width=\"640\">"
   ]
  },
  {
   "cell_type": "code",
   "execution_count": null,
   "id": "commercial-nightmare",
   "metadata": {
    "colab": {
     "base_uri": "https://localhost:8080/"
    },
    "executionInfo": {
     "elapsed": 22360,
     "status": "ok",
     "timestamp": 1663002333310,
     "user": {
      "displayName": "Aakash N S",
      "userId": "03254185060287524023"
     },
     "user_tz": -330
    },
    "id": "commercial-nightmare",
    "outputId": "2fa45e0e-25ba-41a5-9690-413b99a4d1dc"
   },
   "outputs": [],
   "source": [
    "test_params(max_samples=0.9)"
   ]
  },
  {
   "cell_type": "code",
   "execution_count": null,
   "id": "altered-boulder",
   "metadata": {
    "colab": {
     "base_uri": "https://localhost:8080/"
    },
    "executionInfo": {
     "elapsed": 19,
     "status": "ok",
     "timestamp": 1663002333310,
     "user": {
      "displayName": "Aakash N S",
      "userId": "03254185060287524023"
     },
     "user_tz": -330
    },
    "id": "altered-boulder",
    "outputId": "96fa2a9c-5405-4f50-f60a-82367c156f05"
   },
   "outputs": [],
   "source": [
    "base_accs"
   ]
  },
  {
   "cell_type": "markdown",
   "id": "relative-manner",
   "metadata": {
    "id": "relative-manner"
   },
   "source": [
    "Learn more about bootstrapping here: https://towardsdatascience.com/what-is-out-of-bag-oob-score-in-random-forest-a7fa23d710"
   ]
  },
  {
   "cell_type": "markdown",
   "id": "industrial-mistress",
   "metadata": {
    "id": "industrial-mistress"
   },
   "source": [
    "### `class_weight`"
   ]
  },
  {
   "cell_type": "code",
   "execution_count": null,
   "id": "cordless-arena",
   "metadata": {
    "colab": {
     "base_uri": "https://localhost:8080/"
    },
    "executionInfo": {
     "elapsed": 17,
     "status": "ok",
     "timestamp": 1663002333310,
     "user": {
      "displayName": "Aakash N S",
      "userId": "03254185060287524023"
     },
     "user_tz": -330
    },
    "id": "cordless-arena",
    "outputId": "d43a3d37-67ea-4287-eb7f-b4b3aa1e252d"
   },
   "outputs": [],
   "source": [
    "model.classes_"
   ]
  },
  {
   "cell_type": "code",
   "execution_count": null,
   "id": "dominant-element",
   "metadata": {
    "colab": {
     "base_uri": "https://localhost:8080/"
    },
    "executionInfo": {
     "elapsed": 21225,
     "status": "ok",
     "timestamp": 1663002354522,
     "user": {
      "displayName": "Aakash N S",
      "userId": "03254185060287524023"
     },
     "user_tz": -330
    },
    "id": "dominant-element",
    "outputId": "0dc64a53-35b5-4f16-847c-81cf2698e9ab"
   },
   "outputs": [],
   "source": [
    "test_params(class_weight='balanced')"
   ]
  },
  {
   "cell_type": "code",
   "execution_count": null,
   "id": "known-northern",
   "metadata": {
    "colab": {
     "base_uri": "https://localhost:8080/"
    },
    "executionInfo": {
     "elapsed": 21320,
     "status": "ok",
     "timestamp": 1663002375840,
     "user": {
      "displayName": "Aakash N S",
      "userId": "03254185060287524023"
     },
     "user_tz": -330
    },
    "id": "known-northern",
    "outputId": "cdd3474e-1d8d-4833-a919-f362a1517772"
   },
   "outputs": [],
   "source": [
    "test_params(class_weight={'No': 1, 'Yes': 2})"
   ]
  },
  {
   "cell_type": "code",
   "execution_count": null,
   "id": "interpreted-situation",
   "metadata": {
    "colab": {
     "base_uri": "https://localhost:8080/"
    },
    "executionInfo": {
     "elapsed": 16,
     "status": "ok",
     "timestamp": 1663002375840,
     "user": {
      "displayName": "Aakash N S",
      "userId": "03254185060287524023"
     },
     "user_tz": -330
    },
    "id": "interpreted-situation",
    "outputId": "635a1a22-abda-4c70-bb39-e77276d4d33a"
   },
   "outputs": [],
   "source": [
    "base_accs"
   ]
  },
  {
   "cell_type": "markdown",
   "id": "floppy-gospel",
   "metadata": {
    "id": "floppy-gospel"
   },
   "source": [
    "> **EXERCISE**: Find the optimal value of `class_weight` for this dataset."
   ]
  },
  {
   "cell_type": "code",
   "execution_count": null,
   "id": "weird-window",
   "metadata": {
    "id": "weird-window"
   },
   "outputs": [],
   "source": []
  },
  {
   "cell_type": "markdown",
   "id": "piano-equality",
   "metadata": {
    "id": "piano-equality"
   },
   "source": [
    "### Putting it together\n",
    "\n",
    "Let's train a random forest with customized hyperparameters based on our learnings. Of course, different hyperpraams"
   ]
  },
  {
   "cell_type": "code",
   "execution_count": null,
   "id": "elder-income",
   "metadata": {
    "executionInfo": {
     "elapsed": 15,
     "status": "ok",
     "timestamp": 1663002375841,
     "user": {
      "displayName": "Aakash N S",
      "userId": "03254185060287524023"
     },
     "user_tz": -330
    },
    "id": "elder-income"
   },
   "outputs": [],
   "source": [
    "model = RandomForestClassifier(n_jobs=-1, \n",
    "                               random_state=42, \n",
    "                               n_estimators=500,\n",
    "                               max_features=7,\n",
    "                               max_depth=30, \n",
    "                               class_weight={'No': 1, 'Yes': 1.5})"
   ]
  },
  {
   "cell_type": "code",
   "execution_count": null,
   "id": "brutal-huntington",
   "metadata": {
    "colab": {
     "base_uri": "https://localhost:8080/"
    },
    "executionInfo": {
     "elapsed": 69636,
     "status": "ok",
     "timestamp": 1663002445463,
     "user": {
      "displayName": "Aakash N S",
      "userId": "03254185060287524023"
     },
     "user_tz": -330
    },
    "id": "brutal-huntington",
    "outputId": "3fedd074-2a5d-4842-c12c-3125c45082c4"
   },
   "outputs": [],
   "source": [
    "model.fit(X_train, train_targets)"
   ]
  },
  {
   "cell_type": "code",
   "execution_count": null,
   "id": "worth-commerce",
   "metadata": {
    "colab": {
     "base_uri": "https://localhost:8080/"
    },
    "executionInfo": {
     "elapsed": 13197,
     "status": "ok",
     "timestamp": 1663002458646,
     "user": {
      "displayName": "Aakash N S",
      "userId": "03254185060287524023"
     },
     "user_tz": -330
    },
    "id": "worth-commerce",
    "outputId": "107582f5-f638-48c4-fd6f-53ea2279be4b"
   },
   "outputs": [],
   "source": [
    "model.score(X_train, train_targets), model.score(X_val, val_targets)"
   ]
  },
  {
   "cell_type": "code",
   "execution_count": null,
   "id": "finished-difference",
   "metadata": {
    "colab": {
     "base_uri": "https://localhost:8080/"
    },
    "executionInfo": {
     "elapsed": 16,
     "status": "ok",
     "timestamp": 1663002458647,
     "user": {
      "displayName": "Aakash N S",
      "userId": "03254185060287524023"
     },
     "user_tz": -330
    },
    "id": "finished-difference",
    "outputId": "4b5cb10c-6bce-473e-903d-64c97956341a"
   },
   "outputs": [],
   "source": [
    "base_accs"
   ]
  },
  {
   "cell_type": "markdown",
   "id": "tracked-demographic",
   "metadata": {
    "id": "tracked-demographic"
   },
   "source": [
    "We've increased the accuracy from 84.5% with a single decision tree to 85.7% with a well-tuned random forest. Depending on the dataset and the kind of problem, you may or may not a see a significant improvement with hyperparameter tuning. \n",
    "\n",
    "This could be due to any of the following reasons:\n",
    "\n",
    "- We may not have found the right mix of hyperparameters to regularize (reduce overfitting) the model properly, and we should keep trying to improve the model.\n",
    "\n",
    "- We may have reached the limits of the modeling technique we're currently using (Random Forests), and we should try another modeling technique e.g. gradient boosting.\n",
    "\n",
    "- We may have reached the limits of what we can predict using the given amount of data, and we may need more data to improve the model.\n",
    "\n",
    "- We may have reached the limits of how well we can predict whether it will rain tomorrow using the given weather measurements, and we may need more features (columns) to further improve the model. In many cases, we can also generate new features using existing features (this is called feature engineering).\n",
    "\n",
    "- Whether it will rain tomorrow may be an inherently random or chaotic phenomenon which simply cannot be predicted beyond a certain accuracy any amount of data for any number of weather measurements with any modeling technique.  \n",
    "\n",
    "Remember that ultimately all models are wrong, but some are useful. If you can rely on the model we've created today to make a travel decision for tomorrow, then the model is useful, even though it may sometimes be wrong."
   ]
  },
  {
   "cell_type": "markdown",
   "id": "SZavKPwjpz2O",
   "metadata": {
    "id": "SZavKPwjpz2O"
   },
   "source": [
    "### Strategy for Tuning Hyperparameters\n",
    "\n",
    "Here's a good strategy for tuning hyperparameters:\n",
    "\n",
    "1. Tune the most important/impactful hyperparameter first e.g. n_estimators\n",
    "\n",
    "2. With the best value of the first hyperparameter, tune the next most impactful hyperparameter\n",
    "\n",
    "3. And so on, keep training the next most impactful parameters with the best values for previous parameters...\n",
    "\n",
    "4. Then, go back to the top and further tune each parameter again for further marginal gains\n",
    "\n",
    "Keep your ideas and experiments organized using an experiment tracking sheet: https://bit.ly/mltrackingsheet\n",
    "\n",
    "\n",
    "Your first objective should be make the training loss as low as possible (even if the validation loss is very large), and then try to regularize the model to slowly decrease the valiadation loss while increasing the training loss.\n",
    "\n",
    "\n",
    "Hyperparameter tuning is more art than science, unfortunately. Try to get a feel for how the parameters interact with each other based on your understanding of the parameter"
   ]
  },
  {
   "cell_type": "code",
   "execution_count": null,
   "id": "radio-speed",
   "metadata": {
    "colab": {
     "base_uri": "https://localhost:8080/",
     "height": 661
    },
    "executionInfo": {
     "elapsed": 369,
     "status": "ok",
     "timestamp": 1663002463738,
     "user": {
      "displayName": "Aakash N S",
      "userId": "03254185060287524023"
     },
     "user_tz": -330
    },
    "id": "radio-speed",
    "outputId": "6882c2f1-ae62-4758-a146-f82fa126ebed"
   },
   "outputs": [],
   "source": [
    "raw_df"
   ]
  },
  {
   "cell_type": "markdown",
   "id": "numerical-prague",
   "metadata": {
    "id": "numerical-prague"
   },
   "source": [
    "> **EXERCISE**: Experiment with the hyperparameters of the random forest classifier, and try to maximize the validation accuracy."
   ]
  },
  {
   "cell_type": "code",
   "execution_count": null,
   "id": "brazilian-mauritius",
   "metadata": {
    "id": "brazilian-mauritius"
   },
   "outputs": [],
   "source": []
  },
  {
   "cell_type": "code",
   "execution_count": null,
   "id": "turned-oriental",
   "metadata": {
    "id": "turned-oriental"
   },
   "outputs": [],
   "source": []
  },
  {
   "cell_type": "markdown",
   "id": "considerable-royalty",
   "metadata": {
    "id": "considerable-royalty"
   },
   "source": [
    "Finally, let's also compute the accuracy of our model on the test set."
   ]
  },
  {
   "cell_type": "code",
   "execution_count": null,
   "id": "serial-button",
   "metadata": {
    "colab": {
     "base_uri": "https://localhost:8080/"
    },
    "executionInfo": {
     "elapsed": 3581,
     "status": "ok",
     "timestamp": 1663002471604,
     "user": {
      "displayName": "Aakash N S",
      "userId": "03254185060287524023"
     },
     "user_tz": -330
    },
    "id": "serial-button",
    "outputId": "3d01c991-b058-4aed-dc28-90f920cf28be"
   },
   "outputs": [],
   "source": [
    "model.score(X_test, test_targets)"
   ]
  },
  {
   "cell_type": "markdown",
   "id": "accompanied-least",
   "metadata": {
    "id": "accompanied-least"
   },
   "source": [
    "Notice that the test accuracy is lower"
   ]
  },
  {
   "cell_type": "markdown",
   "id": "wound-decline",
   "metadata": {
    "id": "wound-decline"
   },
   "source": [
    "Let's save our work before continuing."
   ]
  },
  {
   "cell_type": "code",
   "execution_count": null,
   "id": "improved-synthesis",
   "metadata": {
    "colab": {
     "base_uri": "https://localhost:8080/",
     "height": 89
    },
    "executionInfo": {
     "elapsed": 4353,
     "status": "ok",
     "timestamp": 1663002475950,
     "user": {
      "displayName": "Aakash N S",
      "userId": "03254185060287524023"
     },
     "user_tz": -330
    },
    "id": "improved-synthesis",
    "outputId": "5e3ec52f-61ca-45fb-8017-561a78f533e5"
   },
   "outputs": [],
   "source": [
    "# jovian.commit()"
   ]
  },
  {
   "cell_type": "markdown",
   "id": "faced-church",
   "metadata": {
    "id": "faced-church"
   },
   "source": [
    "## Making Predictions on New Inputs\n",
    "\n",
    "Let's define a helper function to make predictions on new inputs."
   ]
  },
  {
   "cell_type": "code",
   "execution_count": null,
   "id": "short-enhancement",
   "metadata": {
    "executionInfo": {
     "elapsed": 6,
     "status": "ok",
     "timestamp": 1663002475950,
     "user": {
      "displayName": "Aakash N S",
      "userId": "03254185060287524023"
     },
     "user_tz": -330
    },
    "id": "short-enhancement"
   },
   "outputs": [],
   "source": [
    "def predict_input(model, single_input):\n",
    "    input_df = pd.DataFrame([single_input])\n",
    "    input_df[numeric_cols] = imputer.transform(input_df[numeric_cols])\n",
    "    input_df[numeric_cols] = scaler.transform(input_df[numeric_cols])\n",
    "    input_df[encoded_cols] = encoder.transform(input_df[categorical_cols])\n",
    "    X_input = input_df[numeric_cols + encoded_cols]\n",
    "    pred = model.predict(X_input)[0]\n",
    "    prob = model.predict_proba(X_input)[0][list(model.classes_).index(pred)]\n",
    "    return pred, prob"
   ]
  },
  {
   "cell_type": "code",
   "execution_count": null,
   "id": "bizarre-washington",
   "metadata": {
    "executionInfo": {
     "elapsed": 6,
     "status": "ok",
     "timestamp": 1663002475951,
     "user": {
      "displayName": "Aakash N S",
      "userId": "03254185060287524023"
     },
     "user_tz": -330
    },
    "id": "bizarre-washington"
   },
   "outputs": [],
   "source": [
    "new_input = {'Date': '2021-06-19',\n",
    "             'Location': 'Launceston',\n",
    "             'MinTemp': 23.2,\n",
    "             'MaxTemp': 33.2,\n",
    "             'Rainfall': 10.2,\n",
    "             'Evaporation': 4.2,\n",
    "             'Sunshine': np.nan,\n",
    "             'WindGustDir': 'NNW',\n",
    "             'WindGustSpeed': 52.0,\n",
    "             'WindDir9am': 'NW',\n",
    "             'WindDir3pm': 'NNE',\n",
    "             'WindSpeed9am': 13.0,\n",
    "             'WindSpeed3pm': 20.0,\n",
    "             'Humidity9am': 89.0,\n",
    "             'Humidity3pm': 58.0,\n",
    "             'Pressure9am': 1004.8,\n",
    "             'Pressure3pm': 1001.5,\n",
    "             'Cloud9am': 8.0,\n",
    "             'Cloud3pm': 5.0,\n",
    "             'Temp9am': 25.7,\n",
    "             'Temp3pm': 33.0,\n",
    "             'RainToday': 'Yes'}"
   ]
  },
  {
   "cell_type": "code",
   "execution_count": null,
   "id": "innovative-middle",
   "metadata": {
    "colab": {
     "base_uri": "https://localhost:8080/"
    },
    "executionInfo": {
     "elapsed": 627,
     "status": "ok",
     "timestamp": 1663002476573,
     "user": {
      "displayName": "Aakash N S",
      "userId": "03254185060287524023"
     },
     "user_tz": -330
    },
    "id": "innovative-middle",
    "outputId": "2ef1c00b-de38-4948-ba76-5d1a7bf6b9a5"
   },
   "outputs": [],
   "source": [
    "predict_input(model, new_input)"
   ]
  },
  {
   "cell_type": "markdown",
   "id": "usual-violation",
   "metadata": {
    "id": "usual-violation"
   },
   "source": [
    "> **EXERCISE**: Try changing the values in `new_input` and observe how the predictions and probabilities change. Try different values of location, temperature, humidity, pressure etc. Try to get an _intuitive feel_ of which columns have the greatest effect on the result of the model."
   ]
  },
  {
   "cell_type": "code",
   "execution_count": null,
   "id": "nonprofit-trout",
   "metadata": {
    "colab": {
     "base_uri": "https://localhost:8080/"
    },
    "executionInfo": {
     "elapsed": 8,
     "status": "ok",
     "timestamp": 1663002476574,
     "user": {
      "displayName": "Aakash N S",
      "userId": "03254185060287524023"
     },
     "user_tz": -330
    },
    "id": "nonprofit-trout",
    "outputId": "a9f2b693-0fc8-4f19-c737-d6e3c842e911"
   },
   "outputs": [],
   "source": [
    "raw_df.Location.unique()"
   ]
  },
  {
   "cell_type": "markdown",
   "id": "otherwise-treasury",
   "metadata": {
    "id": "otherwise-treasury"
   },
   "source": [
    "## Saving and Loading Trained Models\n",
    "\n",
    "We can save the parameters (weights and biases) of our trained model to disk, so that we needn't retrain the model from scratch each time we wish to use it. Along with the model, it's also important to save imputers, scalers, encoders and even column names. Anything that will be required while generating predictions using the model should be saved.\n",
    "\n",
    "We can use the `joblib` module to save and load Python objects on the disk. "
   ]
  },
  {
   "cell_type": "code",
   "execution_count": null,
   "id": "legitimate-opera",
   "metadata": {
    "executionInfo": {
     "elapsed": 4,
     "status": "ok",
     "timestamp": 1663002476574,
     "user": {
      "displayName": "Aakash N S",
      "userId": "03254185060287524023"
     },
     "user_tz": -330
    },
    "id": "legitimate-opera"
   },
   "outputs": [],
   "source": [
    "import joblib"
   ]
  },
  {
   "cell_type": "code",
   "execution_count": null,
   "id": "competitive-windows",
   "metadata": {
    "executionInfo": {
     "elapsed": 4,
     "status": "ok",
     "timestamp": 1663002476575,
     "user": {
      "displayName": "Aakash N S",
      "userId": "03254185060287524023"
     },
     "user_tz": -330
    },
    "id": "competitive-windows"
   },
   "outputs": [],
   "source": [
    "aussie_rain = {\n",
    "    'model': model,\n",
    "    'imputer': imputer,\n",
    "    'scaler': scaler,\n",
    "    'encoder': encoder,\n",
    "    'input_cols': input_cols,\n",
    "    'target_col': target_col,\n",
    "    'numeric_cols': numeric_cols,\n",
    "    'categorical_cols': categorical_cols,\n",
    "    'encoded_cols': encoded_cols\n",
    "}"
   ]
  },
  {
   "cell_type": "code",
   "execution_count": null,
   "id": "worth-toronto",
   "metadata": {
    "colab": {
     "base_uri": "https://localhost:8080/"
    },
    "executionInfo": {
     "elapsed": 3601,
     "status": "ok",
     "timestamp": 1663002481200,
     "user": {
      "displayName": "Aakash N S",
      "userId": "03254185060287524023"
     },
     "user_tz": -330
    },
    "id": "worth-toronto",
    "outputId": "c8a68069-4759-4584-bb48-6a5cb3a2cf90"
   },
   "outputs": [],
   "source": [
    "joblib.dump(aussie_rain, 'aussie_rain.joblib')"
   ]
  },
  {
   "cell_type": "markdown",
   "id": "monthly-mixture",
   "metadata": {
    "id": "monthly-mixture"
   },
   "source": [
    "The object can be loaded back using `joblib.load`"
   ]
  },
  {
   "cell_type": "code",
   "execution_count": null,
   "id": "opening-cream",
   "metadata": {
    "id": "opening-cream"
   },
   "outputs": [],
   "source": [
    "aussie_rain2 = joblib.load('aussie_rain.joblib')"
   ]
  },
  {
   "cell_type": "code",
   "execution_count": null,
   "id": "scientific-receipt",
   "metadata": {
    "id": "scientific-receipt"
   },
   "outputs": [],
   "source": [
    "test_preds2 = aussie_rain2['model'].predict(X_test)\n",
    "accuracy_score(test_targets, test_preds2)"
   ]
  },
  {
   "cell_type": "markdown",
   "id": "institutional-processor",
   "metadata": {
    "id": "institutional-processor"
   },
   "source": [
    "Let's save our work before continuing."
   ]
  },
  {
   "cell_type": "code",
   "execution_count": null,
   "id": "super-association",
   "metadata": {
    "id": "super-association"
   },
   "outputs": [],
   "source": [
    "# jovian.commit()"
   ]
  },
  {
   "cell_type": "markdown",
   "id": "documented-disney",
   "metadata": {
    "id": "documented-disney"
   },
   "source": [
    "## Summary and References\n",
    "\n",
    "The following topics were covered in this tutorial:\n",
    "\n",
    "- Downloading a real-world dataset\n",
    "- Preparing a dataset for training\n",
    "- Training and interpreting decision trees\n",
    "- Training and interpreting random forests\n",
    "- Overfitting, hyperparameter tuning & regularization\n",
    "- Making predictions on single inputs\n",
    "\n",
    "\n",
    "\n",
    "We also introduced the following terms:\n",
    "\n",
    "* Decision tree\n",
    "* Random forest\n",
    "* Overfitting\n",
    "* Hyperparameter\n",
    "* Hyperparameter tuning\n",
    "* Regularization\n",
    "* Ensembling\n",
    "* Generalization\n",
    "* Bootstrapping\n",
    "\n",
    "\n",
    "Check out the following resources to learn more: \n",
    "\n",
    "- https://scikit-learn.org/stable/modules/tree.html\n",
    "- https://scikit-learn.org/stable/modules/generated/sklearn.ensemble.RandomForestClassifier.html\n",
    "- https://www.kaggle.com/willkoehrsen/start-here-a-gentle-introduction\n",
    "- https://www.kaggle.com/willkoehrsen/introduction-to-manual-feature-engineering\n",
    "- https://www.kaggle.com/willkoehrsen/intro-to-model-tuning-grid-and-random-search\n",
    "- https://www.kaggle.com/c/home-credit-default-risk/discussion/64821\n"
   ]
  },
  {
   "cell_type": "markdown",
   "id": "acc95650",
   "metadata": {
    "id": "acc95650"
   },
   "source": [
    "## Revision Questions\n",
    "1.\tWhat is a decision tree model?\n",
    "2.\tWhat is <code>DecisionTreeClassifier()</code>?\n",
    "3.\tCan we use decision tree only for Classifier? \n",
    "4.\tHow can you visualize the decision tree?\n",
    "5.\tWhat is <code>max_depth</code> in decision tree?\n",
    "6.\tWhat is gini index?\n",
    "7.\tWhat is feature importance?\n",
    "8.\tWhat is overfitting? What could be the reason for overfitting?\n",
    "9.\tWhat is hyperparameter tuning?\n",
    "10.\tWhat is one way to control the complexity of the decision tree?\n",
    "11.\tWhat is a random forest model?\n",
    "12.\tWhat is <code>RandomForestClassifier()</code>?\n",
    "13.\tWhat is <code>model.score()</code>?\n",
    "14.\tWhat is generalization?\n",
    "15.\tWhat is ensembling?\n",
    "16.\tWhat is <code>n_estimators</code> in hyperparameter tuning of random forests?\n",
    "17.\tWhat is underfitting?\n",
    "18.\tWhat does <code>max_features</code> parameter do?\n",
    "19.\tWhat are some features that help in controlling the threshold for splitting nodes in decision tree?\n",
    "20.\tWhat is bootstrapping? What is <code>max_samples</code> parameter in bootstrapping?\n",
    "21.\tWhat is <code>class_weight</code> parameter?\n",
    "22.\tYou may or may not a see a significant improvement in the accuracy score with hyperparameter tuning. What could be the possible reasons for that?"
   ]
  }
 ],
 "metadata": {
  "colab": {
   "collapsed_sections": [
    "documented-disney"
   ],
   "provenance": []
  },
  "kernelspec": {
   "display_name": "Python 3 (ipykernel)",
   "language": "python",
   "name": "python3"
  },
  "language_info": {
   "codemirror_mode": {
    "name": "ipython",
    "version": 3
   },
   "file_extension": ".py",
   "mimetype": "text/x-python",
   "name": "python",
   "nbconvert_exporter": "python",
   "pygments_lexer": "ipython3",
   "version": "3.10.4"
  }
 },
 "nbformat": 4,
 "nbformat_minor": 5
}
